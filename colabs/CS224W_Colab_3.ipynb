{
 "cells": [
  {
   "cell_type": "markdown",
   "metadata": {
    "id": "XuXWJLEm2UWS"
   },
   "source": [
    "# **CS224W - Colab 3**"
   ]
  },
  {
   "cell_type": "markdown",
   "metadata": {
    "id": "8gzsP50bF6Gb"
   },
   "source": [
    "In Colab 2 we constructed GNN models by using PyTorch Geometric built in GCN layer, the `GCNConv`. In this Colab we will implement the **GraphSAGE** ([Hamilton et al. (2017)](https://arxiv.org/abs/1706.02216)) and **GAT** ([Veličković et al. (2018)](https://arxiv.org/abs/1710.10903)) layers directly. Then we will run our models on the CORA dataset, which is a standard citation network benchmark dataset.\n",
    "\n",
    "We will then use [DeepSNAP](https://snap.stanford.edu/deepsnap/), a Python library assisting efficient deep learning on graphs, to split the graphs in different settings and apply dataset transformations.\n",
    "\n",
    "At last, using DeepSNAP transductive link prediction split functionality, we will construct a simple GNN model on the edge property predition (link prediction) task.\n",
    "\n",
    "**Note**: Make sure to **sequentially run all the cells in each section**, so that the intermediate variables / packages will carry over to the next cell\n",
    "\n",
    "Have fun on Colab 3 :)"
   ]
  },
  {
   "cell_type": "markdown",
   "metadata": {
    "id": "MSaetj53YnT6"
   },
   "source": [
    "# Device\n",
    "You might need to use GPU for this Colab.\n",
    "\n",
    "Please click `Runtime` and then `Change runtime type`. Then set the `hardware accelerator` to **GPU**."
   ]
  },
  {
   "cell_type": "markdown",
   "metadata": {
    "id": "67gOQITlCNQi"
   },
   "source": [
    "## Installation"
   ]
  },
  {
   "cell_type": "code",
   "execution_count": 10,
   "metadata": {
    "id": "J_m9l6OYCQZP"
   },
   "outputs": [
    {
     "name": "stdout",
     "output_type": "stream",
     "text": [
      "\u001b[33mWARNING: Running pip as the 'root' user can result in broken permissions and conflicting behaviour with the system package manager. It is recommended to use a virtual environment instead: https://pip.pypa.io/warnings/venv\u001b[0m\u001b[33m\r\n",
      "\u001b[0m"
     ]
    }
   ],
   "source": [
    "#!pip install -q torch-scatter -f https://pytorch-geometric.com/whl/torch-1.7.0+cu101.html\n",
    "#!pip install -q torch-sparse -f https://pytorch-geometric.com/whl/torch-1.7.0+cu101.html\n",
    "#!pip install -q torch-geometric\n",
    "!pip install -q git+https://github.com/snap-stanford/deepsnap.git"
   ]
  },
  {
   "cell_type": "code",
   "execution_count": 11,
   "metadata": {
    "id": "PRfgbfTjCRD_"
   },
   "outputs": [
    {
     "data": {
      "text/plain": [
       "'2.3.1'"
      ]
     },
     "execution_count": 11,
     "metadata": {},
     "output_type": "execute_result"
    }
   ],
   "source": [
    "import torch_geometric\n",
    "torch_geometric.__version__"
   ]
  },
  {
   "cell_type": "markdown",
   "metadata": {
    "id": "ZoXlf4MtYrbz"
   },
   "source": [
    "# 1 GNN Layers"
   ]
  },
  {
   "cell_type": "markdown",
   "metadata": {
    "id": "TQy2RBfgYut4"
   },
   "source": [
    "## Implementing Layer Modules\n",
    "\n",
    "In colab 2, we implemented a network using GCN in node and graph classification tasks. However, the GCN module we used in colab 2 is from the official library. For this problem, we will provide you with a general Graph Neural Network Stack, where you'll be able to plugin your own modules of GraphSAGE and GATs. We will use our implementations to complete node classification on CORA, which is a standard citation network benchmark dataset. In this dataset, nodes correspond to documents and edges correspond to undirected citations. Each node has a class label. The node features are elements of a bag-or-words representation of a document. For the Cora dataset, there are 2708 nodes, 5429 edges, 7 prediction classes for nodes, and 1433 features per node."
   ]
  },
  {
   "cell_type": "markdown",
   "metadata": {
    "id": "H4ne6Gw-CT5G"
   },
   "source": [
    "## GNN Stack Module\n",
    "\n",
    "Below is the implementation for a general GNN Module that could plugin any layers, including **GraphSage**, **GAT**, etc. This module is provided for you, and you own **GraphSage** and **GAT** layers will function as components in the GNNStack Module."
   ]
  },
  {
   "cell_type": "code",
   "execution_count": 12,
   "metadata": {
    "id": "Ys8vZAFPCWWe"
   },
   "outputs": [],
   "source": [
    "import torch\n",
    "import torch_scatter\n",
    "import torch.nn as nn\n",
    "import torch.nn.functional as F\n",
    "\n",
    "import torch_geometric.nn as pyg_nn\n",
    "import torch_geometric.utils as pyg_utils\n",
    "\n",
    "from torch import Tensor\n",
    "from typing import Union, Tuple, Optional\n",
    "from torch_geometric.typing import (OptPairTensor, Adj, Size, NoneType,\n",
    "                                    OptTensor)\n",
    "\n",
    "from torch.nn import Parameter, Linear\n",
    "from torch_sparse import SparseTensor, set_diag\n",
    "from torch_geometric.nn.conv import MessagePassing\n",
    "from torch_geometric.utils import remove_self_loops, add_self_loops, softmax\n",
    "\n",
    "class GNNStack(torch.nn.Module):\n",
    "    def __init__(self, input_dim, hidden_dim, output_dim, args, emb=False):\n",
    "        super(GNNStack, self).__init__()\n",
    "        conv_model = self.build_conv_model(args.model_type)\n",
    "        self.convs = nn.ModuleList()\n",
    "        self.convs.append(conv_model(input_dim, hidden_dim))\n",
    "        assert (args.num_layers >= 1), 'Number of layers is not >=1'\n",
    "        for l in range(args.num_layers-1):\n",
    "            self.convs.append(conv_model(args.heads * hidden_dim, hidden_dim))\n",
    "\n",
    "        # post-message-passing\n",
    "        self.post_mp = nn.Sequential(\n",
    "            nn.Linear(args.heads * hidden_dim, hidden_dim), nn.Dropout(args.dropout),\n",
    "            nn.Linear(hidden_dim, output_dim))\n",
    "\n",
    "        self.dropout = args.dropout\n",
    "        self.num_layers = args.num_layers\n",
    "\n",
    "        self.emb = emb\n",
    "\n",
    "    def build_conv_model(self, model_type):\n",
    "        if model_type == 'GraphSage':\n",
    "            return GraphSage\n",
    "        elif model_type == 'GAT':\n",
    "            # When applying GAT with num heads > 1, one needs to modify the\n",
    "            # input and output dimension of the conv layers (self.convs),\n",
    "            # to ensure that the input dim of the next layer is num heads\n",
    "            # multiplied by the output dim of the previous layer.\n",
    "            # HINT: In case you want to play with multiheads, you need to change the for-loop when builds up self.convs to be\n",
    "            # self.convs.append(conv_model(hidden_dim * num_heads, hidden_dim)),\n",
    "            # and also the first nn.Linear(hidden_dim * num_heads, hidden_dim) in post-message-passing.\n",
    "            return GAT\n",
    "\n",
    "    def forward(self, data):\n",
    "        x, edge_index, batch = data.x, data.edge_index, data.batch\n",
    "\n",
    "        for i in range(self.num_layers):\n",
    "            x = self.convs[i](x, edge_index)\n",
    "            x = F.relu(x)\n",
    "            x = F.dropout(x, p=self.dropout)\n",
    "\n",
    "        x = self.post_mp(x)\n",
    "\n",
    "        if self.emb == True:\n",
    "            return x\n",
    "\n",
    "        return F.log_softmax(x, dim=1)\n",
    "\n",
    "    def loss(self, pred, label):\n",
    "        return F.nll_loss(pred, label)"
   ]
  },
  {
   "cell_type": "markdown",
   "metadata": {
    "id": "syDtxjxoCZgq"
   },
   "source": [
    "## GraphSage Implementation\n",
    "\n",
    "Now let's start working on our own implementation of layers! This part is to get you familiar with how to implement Pytorch layer based on Message Passing. You will be implementing the **forward**, **message** and **aggregate** functions.\n",
    "\n",
    "Generally, the **forward** function is where the actual message passing is conducted. All logic in each iteration happens in **forward**, where we'll call **propagate** function to propagate information from neighbor nodes to central nodes.  So the general paradigm will be pre-processing -> propagate -> post-processing.\n",
    "\n",
    "Recall the process of message passing we introduced in homework 1. **propagate** further calls **message** which transforms information of neighbor nodes into messages, **aggregate** which aggregates all messages from neighbor nodes into one, and **update** which further generates the embedding for nodes in the next iteration.\n",
    "\n",
    "Our implementation is slightly variant from this, where we'll not explicitly implement **update**, but put the logic for updating nodes in **forward** function. To be more specific, after information is propagated, we can further conduct some operations on the output of **propagate**. The output of **forward** is exactly the embeddings after the current iteration.\n",
    "\n",
    "In addition, tensors passed to **propagate()** can be mapped to the respective nodes $i$ and $j$ by appending _i or _j to the variable name, .e.g. x_i and x_j. Note that we generally refer to $i$ as the central nodes that aggregates information, and refer to $j$ as the neighboring nodes, since this is the most common notation.\n",
    "\n",
    "Please find more details in the comments. One thing to note is that we're adding **skip connections** to our GraphSage. Formally, the update rule for our model is described as below:\n",
    "\n",
    "\\begin{equation}\n",
    "h_v^{(l)} = W_l\\cdot h_v^{(l-1)} + W_r \\cdot AGG(\\{h_u^{(l-1)}, \\forall u \\in N(v) \\})\n",
    "\\end{equation}\n",
    "\n",
    "For simplicity, we use mean aggregations where:\n",
    "\n",
    "\\begin{equation}\n",
    "AGG(\\{h_u^{(l-1)}, \\forall u \\in N(v) \\}) = \\frac{1}{|N(v)|} \\sum_{u\\in N(v)} h_u^{(l-1)}\n",
    "\\end{equation}\n",
    "\n",
    "Additionally, $\\ell$-2 normalization is applied after each iteration.\n",
    "\n",
    "In order to complete the work correctly, we have to understand how the different functions interact with each other. In **propagate** we can pass in any parameters we want. For example, we pass in $x$ as an parameter:\n",
    "\n",
    "... = propagate(..., $x$=($x_{central}$, $x_{neighbor}$), ...)\n",
    "\n",
    "Here $x_{central}$ and $x_{neighbor}$ represent the features from **central** nodes and from **neighbor** nodes. If we're using the same representations from central and neighbor, then $x_{central}$ and $x_{neighbor}$ could be identical.\n",
    "\n",
    "Suppose $x_{central}$ and $x_{neighbor}$ are both of shape N * d, where N is number of nodes, and d is dimension of features.\n",
    "\n",
    "Then in message function, we can take parameters called $x\\_i$ and $x\\_j$. Usually $x\\_i$ represents \"central nodes\", and $x\\_j$ represents \"neighbor nodes\". Pay attention to the shape here: $x\\_i$ and $x\\_j$ are both of shape E * d (**not N!**). $x\\_i$ is obtained by concatenating the embeddings of central nodes of all edges through lookups from $x_{central}$ we passed in propagate. Similarly, $x\\_j$ is obtained by concatenating the embeddings of neighbor nodes of all edges through lookups from $x_{neighbor}$ we passed in propagate.\n",
    "\n",
    "Let's look at an example. Suppose we have 4 nodes, so $x_{central}$ and $x_{neighbor}$ are of shape 4 * d. We have two edges (1, 2) and (3, 0). Thus, $x\\_i$ is obtained by $[x_{central}[1]^T; x_{central}[3]^T]^T$, and $x\\_j$ is obtained by $[x_{neighbor}[2]^T; x_{neighbor}[0]^T]^T$\n",
    "\n",
    "<font color='red'>For the following questions, DON'T refer to any existing implementations online.</font>"
   ]
  },
  {
   "cell_type": "code",
   "execution_count": 13,
   "metadata": {
    "colab": {
     "background_save": true
    },
    "id": "RwG4HqCFCaOD"
   },
   "outputs": [],
   "source": [
    "class GraphSage(MessagePassing):\n",
    "\n",
    "    def __init__(self, in_channels, out_channels, normalize = True,\n",
    "                 bias = False, **kwargs):\n",
    "        super(GraphSage, self).__init__(**kwargs)\n",
    "\n",
    "        self.in_channels = in_channels\n",
    "        self.out_channels = out_channels\n",
    "        self.normalize = normalize\n",
    "\n",
    "        self.lin_l = None\n",
    "        self.lin_r = None\n",
    "\n",
    "        ############################################################################\n",
    "        # TODO: Your code here!\n",
    "        # Define the layers needed for the message and update functions below.\n",
    "        # self.lin_l is the linear transformation that you apply to embedding\n",
    "        #            for central node.\n",
    "        # self.lin_r is the linear transformation that you apply to aggregated\n",
    "        #            message from neighbors.\n",
    "        # Our implementation is ~2 lines, but don't worry if you deviate from this.\n",
    "        self.lin_l = nn.Linear(in_channels, out_channels, bias=False)\n",
    "        self.lin_r = nn.Linear(in_channels, out_channels, bias=False)\n",
    "\n",
    "        ############################################################################\n",
    "\n",
    "        self.reset_parameters()\n",
    "\n",
    "    def reset_parameters(self):\n",
    "        self.lin_l.reset_parameters()\n",
    "        self.lin_r.reset_parameters()\n",
    "\n",
    "    def forward(self, x, edge_index, size = None):\n",
    "        \"\"\"\"\"\"\n",
    "\n",
    "        out = None\n",
    "\n",
    "        ############################################################################\n",
    "        # TODO: Your code here!\n",
    "        # Implement message passing, as well as any post-processing (our update rule).\n",
    "        # 1. First call propagate function to conduct the message passing.\n",
    "        #    1.1 See there for more information:\n",
    "        #        https://pytorch-geometric.readthedocs.io/en/latest/notes/create_gnn.html\n",
    "        #    1.2 We use the same representations for central (x_central) and\n",
    "        #        neighbor (x_neighbor) nodes, which means you'll pass x=(x, x)\n",
    "        #        to propagate.\n",
    "        # 2. Update our node embedding with skip connection.\n",
    "        # 3. If normalize is set, do L-2 normalization (defined in\n",
    "        #    torch.nn.functional)\n",
    "        # Our implementation is ~5 lines, but don't worry if you deviate from this.\n",
    "        #print(f\"Forward. x size: {x.size()}\")\n",
    "        m = self.propagate(edge_index, x=(x,x), size=size)\n",
    "        out = self.lin_l(x) + self.lin_r(m)\n",
    "        if self.normalize:\n",
    "            out = F.normalize(out)\n",
    "\n",
    "        ############################################################################\n",
    "\n",
    "        return out\n",
    "\n",
    "    def message(self, x_j):\n",
    "     \n",
    "        out = None\n",
    "\n",
    "        ############################################################################\n",
    "        # TODO: Your code here!\n",
    "        # Implement your message function here.\n",
    "        # Our implementation is ~1 lines, but don't worry if you deviate from this.\n",
    "        out = x_j\n",
    "        ############################################################################\n",
    "\n",
    "        return out\n",
    "\n",
    "    def aggregate(self, inputs, index, dim_size = None):\n",
    "\n",
    "        out = None\n",
    "\n",
    "        # The axis along which to index number of nodes.\n",
    "        node_dim = self.node_dim\n",
    "\n",
    "        ############################################################################\n",
    "        # TODO: Your code here!\n",
    "        # Implement your aggregate function here.\n",
    "        # See here as how to use torch_scatter.scatter:\n",
    "        # https://pytorch-scatter.readthedocs.io/en/latest/functions/scatter.html#torch_scatter.scatter\n",
    "        # Our implementation is ~1 lines, but don't worry if you deviate from this.\n",
    "\n",
    "        out = torch_scatter.scatter(inputs, index, dim=self.node_dim, dim_size=dim_size, reduce=\"mean\")\n",
    "        ############################################################################\n",
    "\n",
    "        return out\n"
   ]
  },
  {
   "cell_type": "markdown",
   "metadata": {
    "id": "qjcfF3RACdLD"
   },
   "source": [
    "## GAT Implementation\n",
    "\n",
    "Attention mechanisms have become the state-of-the-art in many sequence-based tasks such as machine translation and learning sentence representations. One of the major benefits of attention-based mechanisms is their ability to focus on the most relevant parts of the input to make decisions. In this problem, we will see how attention mechanisms can be used to perform node classification of graph-structured data through the usage of Graph Attention Networks (GATs).\n",
    "\n",
    "The building block of the Graph Attention Network is the graph attention layer, which is a variant of the aggregation function . Let $N$ be the number of nodes and $F$ be the dimension of the feature vector for each node. The input to each graph attentional layer is a set of node features: $\\mathbf{h} = \\{\\overrightarrow{h_1}, \\overrightarrow{h_2}, \\dots, \\overrightarrow{h_N}$\\}, $\\overrightarrow{h_i} \\in R^F$. The output of each graph attentional layer is a new set of node features, which may have a new dimension $F'$: $\\mathbf{h'} = \\{\\overrightarrow{h_1'}, \\overrightarrow{h_2'}, \\dots, \\overrightarrow{h_N'}\\}$, with $\\overrightarrow{h_i'} \\in \\mathbb{R}^{F'}$.\n",
    "\n",
    "We will now describe this transformation of the input features into higher-level features performed by each graph attention layer. First, a shared linear transformation parametrized by the weight matrix $\\mathbf{W} \\in \\mathbb{R}^{F' \\times F}$ is applied to every node. Next, we perform self-attention on the nodes. We use a shared attentional mechanism:\n",
    "\\begin{equation}\n",
    "a : \\mathbb{R}^{F'} \\times \\mathbb{R}^{F'} \\rightarrow \\mathbb{R}.\n",
    "\\end{equation}\n",
    "\n",
    "This mechanism computes the attention coefficients that capture the importance of node $j$'s features to node $i$:\n",
    "\\begin{equation}\n",
    "e_{ij} = a(\\mathbf{W_l}\\overrightarrow{h_i}, \\mathbf{W_r} \\overrightarrow{h_j})\n",
    "\\end{equation}\n",
    "The most general formulation of self-attention allows every node to attend to all other nodes which drops all structural information. To utilize graph structure in the attention mechanisms, we can use masked attention. In masked attention, we only compute $e_{ij}$ for nodes $j \\in \\mathcal{N}_i$ where $\\mathcal{N}_i$ is some neighborhood of node $i$ in the graph.\n",
    "\n",
    "To easily compare coefficients across different nodes, we normalize the coefficients across $j$ using a softmax function:\n",
    "\\begin{equation}\n",
    "\\alpha_{ij} = \\text{softmax}_j(e_{ij}) = \\frac{\\exp(e_{ij})}{\\sum_{k \\in \\mathcal{N}_i} \\exp(e_{ik})}\n",
    "\\end{equation}\n",
    "\n",
    "For this problem, our attention mechanism $a$ will be a single-layer feedforward neural network parametrized by a weight vector $\\overrightarrow{a} \\in \\mathbb{R}^{F'}$, followed by a LeakyReLU nonlinearity (with negative input slope 0.2). Let $\\cdot^T$ represent transposition and $||$ represent concatenation. The coefficients computed by our attention mechanism may be expressed as:\n",
    "\n",
    "\\begin{equation}\n",
    "\\alpha_{ij} = \\frac{\\exp\\Big(\\text{LeakyReLU}\\Big(\\overrightarrow{a_l}^T \\mathbf{W_l} \\overrightarrow{h_i} + \\overrightarrow{a_r}^T\\mathbf{W_r}\\overrightarrow{h_j}\\Big)\\Big)}{\\sum_{k\\in \\mathcal{N}_i} \\exp\\Big(\\text{LeakyReLU}\\Big(\\overrightarrow{a_l}^T \\mathbf{W_l} \\overrightarrow{h_i} + \\overrightarrow{a_r}^T\\mathbf{W_r}\\overrightarrow{h_k}\\Big)\\Big)}\n",
    "\\end{equation}\n",
    "\n",
    "For the following questions, we denote $\\alpha_l = [...,\\overrightarrow{a_l}^T \\mathbf{W_l} \\overrightarrow{h_i},...]$ and $\\alpha_r = [..., \\overrightarrow{a_r}^T \\mathbf{W_r} \\overrightarrow{h_j}, ...]$.\n",
    "\n",
    "\n",
    "At every layer of GAT, after the attention coefficients are computed for that layer, the aggregation function can be computed by a weighted sum of neighborhood messages, where weights are specified by $\\alpha_{ij}$.\n",
    "\n",
    "Now, we use the normalized attention coefficients to compute a linear combination of the features corresponding to them. These aggregated features will serve as the final output features for every node.\n",
    "\n",
    "\\begin{equation}\n",
    "h_i' = \\sum_{j \\in \\mathcal{N}_i} \\alpha_{ij} \\mathbf{W_r} \\overrightarrow{h_j}.\n",
    "\\end{equation}\n",
    "\n",
    "To stabilize the learning process of self-attention, we use multi-head attention. To do this we use $K$ independent attention mechanisms, or ``heads'' compute output features as in the above equations. Then, we concatenate these output feature representations:\n",
    "\n",
    "\\begin{equation}\n",
    "    \\overrightarrow{h_i}' = ||_{k=1}^K \\Big(\\sum_{j \\in \\mathcal{N}_i} \\alpha_{ij}^{(k)} \\mathbf{W_r}^{(k)} \\overrightarrow{h_j}\\Big)\n",
    "\\end{equation}\n",
    "\n",
    "where $||$ is concentation, $\\alpha_{ij}^{(k)}$ are the normalized attention coefficients computed by the $k$-th attention mechanism $(a^k)$, and $\\mathbf{W}^{(k)}$ is the corresponding input linear transformation's weight matrix. Note that for this setting, $\\mathbf{h'} \\in \\mathbb{R}^{KF'}$."
   ]
  },
  {
   "cell_type": "markdown",
   "metadata": {},
   "source": [
    "# Notes on Matrix Dimensions\n",
    "\n",
    "## Input / Output of the linear layers\n",
    "\n",
    "The documentation above states that in theGAT layer, a shared linear transformation parametrized by the weight matrix  𝐖 is applied. This is why in the given code we have `self.lin_r = self.lin_l`\n",
    "\n",
    "If we look at the implementation of the GNNStack above we observe that the GATConv layer is instantiated as \"conv_model(args.heads * hidden_dim, hidden_dim)\". This means that when defining the linear layer in the __init__ function we don't need to account for the number of heads in the in_channels. However, we still need to account for the # of heads in the out_channels param. The out channel will be of length K * F'.\n",
    "\n",
    "## Attention Equation Dimensions\n",
    "\n",
    "\\begin{equation}\n",
    "\\alpha_{ij} = \\frac{\\exp\\Big(\\text{LeakyReLU}\\Big(\\overrightarrow{a_l}^T \\mathbf{W_l} \\overrightarrow{h_i} + \\overrightarrow{a_r}^T\\mathbf{W_r}\\overrightarrow{h_j}\\Big)\\Big)}{\\sum_{k\\in \\mathcal{N}_i} \\exp\\Big(\\text{LeakyReLU}\\Big(\\overrightarrow{a_l}^T \\mathbf{W_l} \\overrightarrow{h_i} + \\overrightarrow{a_r}^T\\mathbf{W_r}\\overrightarrow{h_k}\\Big)\\Big)}\n",
    "\\end{equation}\n",
    "\n",
    "where:\n",
    "- A weight vector $\\overrightarrow{a} \\in \\mathbb{R}^{F'}$. Then: $\\overrightarrow{a_l}^T \\in \\mathbb{R}^{1 \\times F'}$. Note that in the multi-head attention scenario: $\\overrightarrow{a_l}^T \\in \\mathbb{R}^{K \\times F'}$\n",
    "- Weight matrix $\\mathbf{W} \\in \\mathbb{R}^{F' \\times F}$\n",
    "- Embedding: $\\overrightarrow{h_i} \\in R^F$\n",
    "\n",
    "Thus\n",
    "\n",
    "$\\overrightarrow{a}^T * \\mathbf{W} * \\overrightarrow{h_i} \\in \\mathbb{R}$\n",
    "\n",
    "\n",
    "$a_{ij} \\in \\mathbb{R}$\n",
    "\n",
    "A source of confusion was if there was a different weight per attribute or not. The answer is plainly 'no'. The confusion emerged from the fact that the repo `balvisio/CS224W-Colab` colab 3 has a wrong implementation where `alpha_l.size() == (# nodes, heads, out_channels)` instead of being `(# nodes, heads`). In the pygeomtreic implementation it can be seen that after the linear layer is applied the sum on the last dimension `sum(-1)` must be performed. See:\n",
    "\n",
    "https://github.com/pyg-team/pytorch_geometric/blob/ff9fb3d7cdbaa2f2b8a848fb6cc5f4c3f465118c/torch_geometric/nn/conv/gat_conv.py#L225\n",
    "\n",
    "\n",
    "In more detailed (from previous paragraph): \"For the following questions, we denote $\\alpha_l = [...,\\overrightarrow{a_l}^T \\mathbf{W_l} \\overrightarrow{h_i},...]$ and $\\alpha_r = [..., \\overrightarrow{a_r}^T \\mathbf{W_r} \\overrightarrow{h_j}, ...]$.\"\n",
    "\n",
    "where\n",
    "\n",
    "$\\alpha_l \\in \\mathbb{R}^{N}$\n",
    "\n",
    "and for the multihead scenario:\n",
    "\n",
    "$\\alpha_l \\in \\mathbb{R}^{N \\times K}$\n",
    "\n",
    "\n",
    "## Feedforward Neural Network Weight Vector Dimension\n",
    "\n",
    "The, single-layer feedforward neural network parametrized by a weight vector $\\overrightarrow{a} \\in \\mathbb{R}^{F'}$. The implmenentation in `__init__` defines $\\overrightarrow{a_l}^T \\in \\mathbb{R}^{1 \\times F'}$ so it should be a tensor of size ${1 \\times F'}$. However, since we are handling multi-head attention then the tensor will be of size ${K \\times F'}$\n",
    "\n",
    "\n",
    "## Useful Articles\n",
    "\n",
    "https://towardsdatascience.com/graph-attention-networks-under-the-hood-3bd70dc7a87\n",
    "\n",
    "https://towardsdatascience.com/a-comprehensive-case-study-of-graphsage-algorithm-with-hands-on-experience-using-pytorchgeometric-6fc631ab1067"
   ]
  },
  {
   "cell_type": "code",
   "execution_count": 14,
   "metadata": {
    "colab": {
     "background_save": true
    },
    "id": "w4j45gTpCeXO"
   },
   "outputs": [],
   "source": [
    "class GAT(MessagePassing):\n",
    "\n",
    "    def __init__(self, in_channels, out_channels, heads = 2,\n",
    "                 negative_slope = 0.2, dropout = 0., **kwargs):\n",
    "        super(GAT, self).__init__(node_dim=0, **kwargs)\n",
    "\n",
    "        self.in_channels = in_channels\n",
    "        self.out_channels = out_channels\n",
    "        self.heads = heads\n",
    "        self.negative_slope = negative_slope\n",
    "        self.dropout = dropout\n",
    "\n",
    "        self.lin_l = None\n",
    "        self.lin_r = None\n",
    "        self.att_l = None\n",
    "        self.att_r = None\n",
    "\n",
    "        ############################################################################\n",
    "        # TODO: Your code here!\n",
    "        # Define the layers needed for the message functions below.\n",
    "        # self.lin_l is the linear transformation that you apply to embeddings\n",
    "        # BEFORE message passing.\n",
    "        # Pay attention to dimensions of the linear layers, since we're using\n",
    "        # multi-head attention.\n",
    "        # Our implementation is ~1 lines, but don't worry if you deviate from this.\n",
    "        \n",
    "        # balvisio: The GAT is instantiated with already accounting the num of heads\n",
    "        # self.convs.append(conv_model(args.heads * hidden_dim, hidden_dim))\n",
    "        self.lin_l = nn.Linear(in_channels, out_channels * heads, bias=False)\n",
    "        #print(f\"Out channels: {self.out_channels}\")\n",
    "        ############################################################################\n",
    "        # Share weights\n",
    "        self.lin_r = self.lin_l\n",
    "\n",
    "\n",
    "        ############################################################################\n",
    "        # TODO: Your code here!\n",
    "        # Define the attention parameters \\overrightarrow{a_l/r}^T in the above intro.\n",
    "        # You have to deal with multi-head scenarios.\n",
    "        # Use nn.Parameter instead of nn.Linear\n",
    "        # Our implementation is ~2 lines, but don't worry if you deviate from this.\n",
    "\n",
    "        self.att_l = nn.Parameter(torch.zeros(heads, out_channels))\n",
    "        self.att_r = nn.Parameter(torch.zeros(heads, out_channels))\n",
    "\n",
    "        ############################################################################\n",
    "\n",
    "        self.reset_parameters()\n",
    "\n",
    "    def reset_parameters(self):\n",
    "        nn.init.xavier_uniform_(self.lin_l.weight)\n",
    "        nn.init.xavier_uniform_(self.lin_r.weight)\n",
    "        nn.init.xavier_uniform_(self.att_l)\n",
    "        nn.init.xavier_uniform_(self.att_r)\n",
    "\n",
    "    def forward(self, x, edge_index, size = None):\n",
    "\n",
    "        H, C = self.heads, self.out_channels\n",
    "\n",
    "        ############################################################################\n",
    "        # TODO: Your code here!\n",
    "        # Implement message passing, as well as any pre- and post-processing (our update rule).\n",
    "        # 1. First apply linear transformation to node embeddings, and split that\n",
    "        #    into multiple heads. We use the same representations for source and\n",
    "        #    target nodes, but apply different linear weights (W_l and W_r)\n",
    "        # 2. Calculate alpha vectors for central nodes (alpha_l) and neighbor nodes (alpha_r).\n",
    "        # 3. Call propagate function to conduct the message passing.\n",
    "        #    3.1 Remember to pass alpha = (alpha_l, alpha_r) as a parameter.\n",
    "        #    3.2 See there for more information: https://pytorch-geometric.readthedocs.io/en/latest/notes/create_gnn.html\n",
    "        # 4. Transform the output back to the shape of N * d.\n",
    "        # Our implementation is ~5 lines, but don't worry if you deviate from this.\n",
    "        \n",
    "        \n",
    "        # out_r.shape = (# node samples, out_channels * heads) (non reshaped)\n",
    "        # (# node samples, heads, out_channels)\n",
    "        out_r = self.lin_r(x).reshape(-1, H, C)\n",
    "        out_l = self.lin_l(x).reshape(-1, H, C)\n",
    "        \n",
    "        \n",
    "        # att_r.size() = (# of heads, out_channels)\n",
    "        #\n",
    "        # (self.att_r * out_r).size() == (# nodes, # heads, # out_channels)\n",
    "        #\n",
    "        # alpha_r.size() = (# nodes, # heads)\n",
    "        \n",
    "        alpha_r = (self.att_r * out_r).sum(-1)\n",
    "        alpha_l = (self.att_l * out_l).sum(-1)\n",
    "       \n",
    "        out = self.propagate(edge_index, x=out_r, alpha=(alpha_l, alpha_r), size=size)\n",
    "        \n",
    "        # out.size() = ( # of nodes, # of heads, # of out_channels)\n",
    "        \n",
    "        out = out.reshape(-1, H * C)\n",
    "        \n",
    "        # out.size() = ( # of nodes, # of heads * # of out_channels)\n",
    "\n",
    "        ############################################################################\n",
    "\n",
    "        return out\n",
    "\n",
    "\n",
    "    def message(self, x_j, alpha_j, alpha_i, index, ptr, size_i):\n",
    "\n",
    "        ############################################################################\n",
    "        # TODO: Your code here!\n",
    "        # Implement your message function. Putting the attention in message\n",
    "        # instead of in update is a little tricky.\n",
    "        # 1. Calculate the final attention weights using alpha_i and alpha_j,\n",
    "        #    and apply leaky Relu.\n",
    "        # 2. Calculate softmax over the neighbor nodes for all the nodes. Use\n",
    "        #    torch_geometric.utils.softmax instead of the one in Pytorch.\n",
    "        # 3. Apply dropout to attention weights (alpha).\n",
    "        # 4. Multiply embeddings and attention weights. As a sanity check, the output\n",
    "        #    should be of shape E * H * d.\n",
    "        # 5. ptr (LongTensor, optional): If given, computes the softmax based on\n",
    "        #    sorted inputs in CSR representation. You can simply pass it to softmax.\n",
    "        # Our implementation is ~5 lines, but don't worry if you deviate from this.                      \n",
    "                \n",
    "        # alpha_i size: (# edges, # heads) \n",
    "        # e_ij size: (# edges, # heads) \n",
    "        # a_ij size: (# edges, # heads) \n",
    "        # x_j size: (# edges, # heads, # hidden_dim)\n",
    "        # out size: (# edges, # heads, # hidden_dim)\n",
    "\n",
    "        e_ij = F.leaky_relu(alpha_i + alpha_j, negative_slope=self.negative_slope)\n",
    "        a_ij = softmax(e_ij, index=index, ptr=ptr)\n",
    "        a_ij = F.dropout(a_ij, p=self.dropout)\n",
    "        out = a_ij.unsqueeze(-1) * x_j\n",
    "        ############################################################################\n",
    "\n",
    "        return out\n",
    "\n",
    "\n",
    "    def aggregate(self, inputs, index, dim_size = None):\n",
    "\n",
    "        ############################################################################\n",
    "        # TODO: Your code here!\n",
    "        # Implement your aggregate function here.\n",
    "        # See here as how to use torch_scatter.scatter: https://pytorch-scatter.readthedocs.io/en/latest/_modules/torch_scatter/scatter.html\n",
    "        # Pay attention to \"reduce\" parameter is different from that in GraphSage.\n",
    "        # Our implementation is ~1 lines, but don't worry if you deviate from this.\n",
    "\n",
    "        out = torch_scatter.scatter(inputs, index, dim=self.node_dim, dim_size=dim_size, reduce=\"sum\")\n",
    "        ############################################################################\n",
    "\n",
    "        return out"
   ]
  },
  {
   "cell_type": "markdown",
   "metadata": {
    "id": "V2dkgSuWCheU"
   },
   "source": [
    "## Building Optimizers\n",
    "\n",
    "This function has been implemented for you. **For grading purposes please use the default Adam optimizer**, but feel free to play with other types of optimizers on your own."
   ]
  },
  {
   "cell_type": "code",
   "execution_count": 15,
   "metadata": {
    "id": "f_TIQ8NPCjBP"
   },
   "outputs": [],
   "source": [
    "import torch.optim as optim\n",
    "\n",
    "def build_optimizer(args, params):\n",
    "    weight_decay = args.weight_decay\n",
    "    filter_fn = filter(lambda p : p.requires_grad, params)\n",
    "    if args.opt == 'adam':\n",
    "        optimizer = optim.Adam(filter_fn, lr=args.lr, weight_decay=weight_decay)\n",
    "    elif args.opt == 'sgd':\n",
    "        optimizer = optim.SGD(filter_fn, lr=args.lr, momentum=0.95, weight_decay=weight_decay)\n",
    "    elif args.opt == 'rmsprop':\n",
    "        optimizer = optim.RMSprop(filter_fn, lr=args.lr, weight_decay=weight_decay)\n",
    "    elif args.opt == 'adagrad':\n",
    "        optimizer = optim.Adagrad(filter_fn, lr=args.lr, weight_decay=weight_decay)\n",
    "    if args.opt_scheduler == 'none':\n",
    "        return None, optimizer\n",
    "    elif args.opt_scheduler == 'step':\n",
    "        scheduler = optim.lr_scheduler.StepLR(optimizer, step_size=args.opt_decay_step, gamma=args.opt_decay_rate)\n",
    "    elif args.opt_scheduler == 'cos':\n",
    "        scheduler = optim.lr_scheduler.CosineAnnealingLR(optimizer, T_max=args.opt_restart)\n",
    "    return scheduler, optimizer"
   ]
  },
  {
   "cell_type": "markdown",
   "metadata": {
    "id": "hBYdWFwYCkwY"
   },
   "source": [
    "## Training and Testing\n",
    "\n",
    "Here we provide you with the functions to train and test. **Please do not modify this part for grading purposes.**"
   ]
  },
  {
   "cell_type": "code",
   "execution_count": 16,
   "metadata": {
    "id": "_tZMWRc8CmGg"
   },
   "outputs": [],
   "source": [
    "import time\n",
    "\n",
    "import networkx as nx\n",
    "import numpy as np\n",
    "import torch\n",
    "import torch.optim as optim\n",
    "\n",
    "from torch_geometric.datasets import TUDataset\n",
    "from torch_geometric.datasets import Planetoid\n",
    "from torch_geometric.data import DataLoader\n",
    "\n",
    "import torch_geometric.nn as pyg_nn\n",
    "\n",
    "import matplotlib.pyplot as plt\n",
    "\n",
    "\n",
    "def train(dataset, args):\n",
    "\n",
    "    print(\"Node task. test set size:\", np.sum(dataset[0]['train_mask'].numpy()))\n",
    "    test_loader = loader = DataLoader(dataset, batch_size=args.batch_size, shuffle=True)\n",
    "\n",
    "    # build model\n",
    "    model = GNNStack(dataset.num_node_features, args.hidden_dim, dataset.num_classes,\n",
    "                            args)\n",
    "    scheduler, opt = build_optimizer(args, model.parameters())\n",
    "\n",
    "    # train\n",
    "    losses = []\n",
    "    test_accs = []\n",
    "    for epoch in range(args.epochs):\n",
    "        total_loss = 0\n",
    "        model.train()\n",
    "        for batch in loader:\n",
    "            opt.zero_grad()\n",
    "            pred = model(batch)\n",
    "            label = batch.y\n",
    "            pred = pred[batch.train_mask]\n",
    "            label = label[batch.train_mask]\n",
    "            loss = model.loss(pred, label)\n",
    "            loss.backward()\n",
    "            opt.step()\n",
    "            total_loss += loss.item() * batch.num_graphs\n",
    "        total_loss /= len(loader.dataset)\n",
    "        losses.append(total_loss)\n",
    "\n",
    "        if epoch % 10 == 0:\n",
    "          test_acc = test(test_loader, model)\n",
    "          test_accs.append(test_acc)\n",
    "          print(f\"Epoch: {epoch} Loss: {total_loss}. Test Acc.: {test_acc}\")\n",
    "        else:\n",
    "          test_accs.append(test_accs[-1])\n",
    "    return test_accs, losses\n",
    "\n",
    "def test(loader, model, is_validation=True):\n",
    "    model.eval()\n",
    "\n",
    "    correct = 0\n",
    "    for data in loader:\n",
    "        with torch.no_grad():\n",
    "            # max(dim=1) returns values, indices tuple; only need indices\n",
    "            pred = model(data).max(dim=1)[1]\n",
    "            label = data.y\n",
    "\n",
    "        mask = data.val_mask if is_validation else data.test_mask\n",
    "        # node classification: only evaluate on nodes in test set\n",
    "        pred = pred[mask]\n",
    "        label = data.y[mask]\n",
    "\n",
    "        correct += pred.eq(label).sum().item()\n",
    "\n",
    "    total = 0\n",
    "    for data in loader.dataset:\n",
    "        total += torch.sum(data.val_mask if is_validation else data.test_mask).item()\n",
    "    return correct / total\n",
    "\n",
    "class objectview(object):\n",
    "    def __init__(self, d):\n",
    "        self.__dict__ = d\n"
   ]
  },
  {
   "cell_type": "markdown",
   "metadata": {
    "id": "L7-h7jIsCns4"
   },
   "source": [
    "## Let's Start the Training!\n",
    "\n",
    "We will be working on the CORA dataset on node-level classification.\n",
    "\n",
    "This part is implemented for you. **For grading purposes, please do not modify the default parameters.** However, feel free to play with different configurations just for fun!\n",
    "\n",
    "**Submit your best accuracy and loss on Gradescope.**"
   ]
  },
  {
   "cell_type": "code",
   "execution_count": 17,
   "metadata": {
    "id": "qe9B45l9Cpz2"
   },
   "outputs": [
    {
     "name": "stdout",
     "output_type": "stream",
     "text": [
      "Node task. test set size: 140\n",
      "Epoch: 0 Loss: 1.9632723331451416. Test Acc.: 0.082\n",
      "Epoch: 10 Loss: 1.6684359312057495. Test Acc.: 0.5\n",
      "Epoch: 20 Loss: 1.0498971939086914. Test Acc.: 0.608\n",
      "Epoch: 30 Loss: 0.5194980502128601. Test Acc.: 0.66\n",
      "Epoch: 40 Loss: 0.3062320947647095. Test Acc.: 0.686\n",
      "Epoch: 50 Loss: 0.1878679245710373. Test Acc.: 0.712\n",
      "Epoch: 60 Loss: 0.17508168518543243. Test Acc.: 0.684\n",
      "Epoch: 70 Loss: 0.2174130082130432. Test Acc.: 0.682\n",
      "Epoch: 80 Loss: 0.16162873804569244. Test Acc.: 0.692\n",
      "Epoch: 90 Loss: 0.22479796409606934. Test Acc.: 0.688\n",
      "Epoch: 100 Loss: 0.16815289855003357. Test Acc.: 0.682\n",
      "Epoch: 110 Loss: 0.21584104001522064. Test Acc.: 0.69\n",
      "Epoch: 120 Loss: 0.19978950917720795. Test Acc.: 0.686\n",
      "Epoch: 130 Loss: 0.16061775386333466. Test Acc.: 0.706\n",
      "Epoch: 140 Loss: 0.19383995234966278. Test Acc.: 0.698\n",
      "Epoch: 150 Loss: 0.25304362177848816. Test Acc.: 0.692\n",
      "Epoch: 160 Loss: 0.1931581199169159. Test Acc.: 0.692\n",
      "Epoch: 170 Loss: 0.22249744832515717. Test Acc.: 0.706\n",
      "Epoch: 180 Loss: 0.19848816096782684. Test Acc.: 0.706\n",
      "Epoch: 190 Loss: 0.21934305131435394. Test Acc.: 0.698\n",
      "Epoch: 200 Loss: 0.23120027780532837. Test Acc.: 0.686\n",
      "Epoch: 210 Loss: 0.23033802211284637. Test Acc.: 0.678\n",
      "Epoch: 220 Loss: 0.18737336993217468. Test Acc.: 0.682\n",
      "Epoch: 230 Loss: 0.21021915972232819. Test Acc.: 0.652\n",
      "Epoch: 240 Loss: 0.1193775162100792. Test Acc.: 0.642\n",
      "Epoch: 250 Loss: 0.20006099343299866. Test Acc.: 0.69\n",
      "Epoch: 260 Loss: 0.256839781999588. Test Acc.: 0.69\n",
      "Epoch: 270 Loss: 0.22539915144443512. Test Acc.: 0.682\n",
      "Epoch: 280 Loss: 0.18329589068889618. Test Acc.: 0.682\n",
      "Epoch: 290 Loss: 0.19886183738708496. Test Acc.: 0.682\n",
      "Epoch: 300 Loss: 0.20312079787254333. Test Acc.: 0.712\n",
      "Epoch: 310 Loss: 0.16291536390781403. Test Acc.: 0.696\n",
      "Epoch: 320 Loss: 0.19295400381088257. Test Acc.: 0.726\n",
      "Epoch: 330 Loss: 0.1023944765329361. Test Acc.: 0.7\n",
      "Epoch: 340 Loss: 0.1697629690170288. Test Acc.: 0.708\n",
      "Epoch: 350 Loss: 0.18089529871940613. Test Acc.: 0.716\n",
      "Epoch: 360 Loss: 0.23621632158756256. Test Acc.: 0.688\n",
      "Epoch: 370 Loss: 0.2823316752910614. Test Acc.: 0.684\n",
      "Epoch: 380 Loss: 0.19799765944480896. Test Acc.: 0.664\n",
      "Epoch: 390 Loss: 0.18805834650993347. Test Acc.: 0.714\n",
      "Epoch: 400 Loss: 0.13491299748420715. Test Acc.: 0.682\n",
      "Epoch: 410 Loss: 0.15021127462387085. Test Acc.: 0.686\n",
      "Epoch: 420 Loss: 0.18202121555805206. Test Acc.: 0.69\n",
      "Epoch: 430 Loss: 0.13177281618118286. Test Acc.: 0.692\n",
      "Epoch: 440 Loss: 0.15847672522068024. Test Acc.: 0.678\n",
      "Epoch: 450 Loss: 0.10658837109804153. Test Acc.: 0.696\n",
      "Epoch: 460 Loss: 0.2517765760421753. Test Acc.: 0.654\n",
      "Epoch: 470 Loss: 0.1546236127614975. Test Acc.: 0.66\n",
      "Epoch: 480 Loss: 0.1407407522201538. Test Acc.: 0.72\n",
      "Epoch: 490 Loss: 0.1938590258359909. Test Acc.: 0.682\n",
      "Maximum accuracy: 0.726\n",
      "Minimum loss: 0.0827300101518631\n"
     ]
    },
    {
     "data": {
      "image/png": "[encoded data removed]",
      "text/plain": [
       "<Figure size 640x480 with 1 Axes>"
      ]
     },
     "metadata": {},
     "output_type": "display_data"
    }
   ],
   "source": [
    "# GRAPHSage\n",
    "def main():\n",
    "    for args in [\n",
    "        {'model_type': 'GraphSage',\n",
    "         'dataset': 'cora',\n",
    "         'num_layers': 2,\n",
    "         'heads': 2,\n",
    "         'batch_size': 32,\n",
    "         'hidden_dim': 32,\n",
    "         'dropout': 0.5,\n",
    "         'epochs': 500,\n",
    "         'opt': 'adam',\n",
    "         'opt_scheduler': 'none',\n",
    "         'opt_restart': 0,\n",
    "         'weight_decay': 5e-3,\n",
    "         'lr': 0.01},\n",
    "    ]:\n",
    "        args = objectview(args)\n",
    "        for model in ['GraphSage']:\n",
    "        # for model in ['GraphSage', 'GAT']: # balvisio\n",
    "            args.model_type = model\n",
    "\n",
    "            # Match the dimension.\n",
    "            if model == 'GAT':\n",
    "              args.heads = 2\n",
    "            else:\n",
    "              args.heads = 1\n",
    "\n",
    "            if args.dataset == 'cora':\n",
    "                dataset = Planetoid(root='/tmp/cora', name='Cora')\n",
    "            else:\n",
    "                raise NotImplementedError(\"Unknown dataset\")\n",
    "            test_accs, losses = train(dataset, args)\n",
    "\n",
    "            print(\"Maximum accuracy: {0}\".format(max(test_accs)))\n",
    "            print(\"Minimum loss: {0}\".format(min(losses)))\n",
    "\n",
    "            plt.title(dataset.name)\n",
    "            plt.plot(losses, label=\"training loss\" + \" - \" + args.model_type)\n",
    "            plt.plot(test_accs, label=\"test accuracy\" + \" - \" + args.model_type)\n",
    "        plt.legend()\n",
    "        plt.show()\n",
    "\n",
    "if __name__ == '__main__':\n",
    "    main()"
   ]
  },
  {
   "cell_type": "code",
   "execution_count": 18,
   "metadata": {
    "id": "qe9B45l9Cpz2"
   },
   "outputs": [
    {
     "name": "stdout",
     "output_type": "stream",
     "text": [
      "Node task. test set size: 140\n",
      "Epoch: 0 Loss: 1.9479880332946777. Test Acc.: 0.274\n",
      "Epoch: 10 Loss: 0.7514854073524475. Test Acc.: 0.572\n",
      "Epoch: 20 Loss: 0.10686369985342026. Test Acc.: 0.73\n",
      "Epoch: 30 Loss: 0.08265597373247147. Test Acc.: 0.75\n",
      "Epoch: 40 Loss: 0.07053441554307938. Test Acc.: 0.736\n",
      "Epoch: 50 Loss: 0.06719647347927094. Test Acc.: 0.724\n",
      "Epoch: 60 Loss: 0.05201133340597153. Test Acc.: 0.718\n",
      "Epoch: 70 Loss: 0.07070083171129227. Test Acc.: 0.698\n",
      "Epoch: 80 Loss: 0.05817660689353943. Test Acc.: 0.726\n",
      "Epoch: 90 Loss: 0.03487371280789375. Test Acc.: 0.734\n",
      "Epoch: 100 Loss: 0.038307346403598785. Test Acc.: 0.722\n",
      "Epoch: 110 Loss: 0.04075725004076958. Test Acc.: 0.736\n",
      "Epoch: 120 Loss: 0.04146287217736244. Test Acc.: 0.738\n",
      "Epoch: 130 Loss: 0.05143047869205475. Test Acc.: 0.728\n",
      "Epoch: 140 Loss: 0.033345844596624374. Test Acc.: 0.712\n",
      "Epoch: 150 Loss: 0.03733788803219795. Test Acc.: 0.696\n",
      "Epoch: 160 Loss: 0.03280990943312645. Test Acc.: 0.72\n",
      "Epoch: 170 Loss: 0.03259441629052162. Test Acc.: 0.74\n",
      "Epoch: 180 Loss: 0.037259090691804886. Test Acc.: 0.714\n",
      "Epoch: 190 Loss: 0.041024696081876755. Test Acc.: 0.73\n",
      "Epoch: 200 Loss: 0.03891529515385628. Test Acc.: 0.72\n",
      "Epoch: 210 Loss: 0.04640822485089302. Test Acc.: 0.728\n",
      "Epoch: 220 Loss: 0.09528511762619019. Test Acc.: 0.712\n",
      "Epoch: 230 Loss: 0.029627829790115356. Test Acc.: 0.714\n",
      "Epoch: 240 Loss: 0.05855190381407738. Test Acc.: 0.716\n",
      "Epoch: 250 Loss: 0.05057254061102867. Test Acc.: 0.69\n",
      "Epoch: 260 Loss: 0.027449119836091995. Test Acc.: 0.724\n",
      "Epoch: 270 Loss: 0.02954179234802723. Test Acc.: 0.69\n",
      "Epoch: 280 Loss: 0.01763688214123249. Test Acc.: 0.724\n",
      "Epoch: 290 Loss: 0.044595811516046524. Test Acc.: 0.72\n",
      "Epoch: 300 Loss: 0.043495502322912216. Test Acc.: 0.724\n",
      "Epoch: 310 Loss: 0.02186007983982563. Test Acc.: 0.724\n",
      "Epoch: 320 Loss: 0.03020118735730648. Test Acc.: 0.696\n",
      "Epoch: 330 Loss: 0.045367661863565445. Test Acc.: 0.714\n",
      "Epoch: 340 Loss: 0.04166145995259285. Test Acc.: 0.702\n",
      "Epoch: 350 Loss: 0.020570680499076843. Test Acc.: 0.73\n",
      "Epoch: 360 Loss: 0.03413454443216324. Test Acc.: 0.716\n",
      "Epoch: 370 Loss: 0.07441240549087524. Test Acc.: 0.708\n",
      "Epoch: 380 Loss: 0.08352581411600113. Test Acc.: 0.738\n",
      "Epoch: 390 Loss: 0.06845393776893616. Test Acc.: 0.704\n",
      "Epoch: 400 Loss: 0.05006815865635872. Test Acc.: 0.702\n",
      "Epoch: 410 Loss: 0.04026739299297333. Test Acc.: 0.718\n",
      "Epoch: 420 Loss: 0.04607478529214859. Test Acc.: 0.7\n",
      "Epoch: 430 Loss: 0.026315489783883095. Test Acc.: 0.708\n",
      "Epoch: 440 Loss: 0.014860395342111588. Test Acc.: 0.73\n",
      "Epoch: 450 Loss: 0.04348554462194443. Test Acc.: 0.73\n",
      "Epoch: 460 Loss: 0.02356862649321556. Test Acc.: 0.712\n",
      "Epoch: 470 Loss: 0.032369475811719894. Test Acc.: 0.694\n",
      "Epoch: 480 Loss: 0.047642648220062256. Test Acc.: 0.676\n",
      "Epoch: 490 Loss: 0.051795635372400284. Test Acc.: 0.698\n",
      "Maximum accuracy: 0.75\n",
      "Minimum loss: 0.014860395342111588\n"
     ]
    },
    {
     "data": {
      "image/png": "[encoded data removed]",
      "text/plain": [
       "<Figure size 640x480 with 1 Axes>"
      ]
     },
     "metadata": {},
     "output_type": "display_data"
    }
   ],
   "source": [
    "# GAT\n",
    "def main():\n",
    "    for args in [\n",
    "        {'model_type': 'GraphSage',\n",
    "         'dataset': 'cora',\n",
    "         'num_layers': 2,\n",
    "         'heads': 2,\n",
    "         'batch_size': 32,\n",
    "         'hidden_dim': 41,\n",
    "         'dropout': 0.5,\n",
    "         'epochs': 500,\n",
    "         'opt': 'adam',\n",
    "         'opt_scheduler': 'none',\n",
    "         'opt_restart': 0,\n",
    "         'weight_decay': 5e-3,\n",
    "         'lr': 0.01},\n",
    "    ]:\n",
    "        args = objectview(args)\n",
    "        for model in ['GAT']:\n",
    "        # for model in ['GraphSage', 'GAT']: # balvisio\n",
    "            args.model_type = model\n",
    "\n",
    "            # Match the dimension.\n",
    "            if model == 'GAT':\n",
    "              args.heads = 2\n",
    "            else:\n",
    "              args.heads = 1\n",
    "\n",
    "            if args.dataset == 'cora':\n",
    "                dataset = Planetoid(root='/tmp/cora', name='Cora')\n",
    "            else:\n",
    "                raise NotImplementedError(\"Unknown dataset\")\n",
    "            test_accs, losses = train(dataset, args)\n",
    "\n",
    "            print(\"Maximum accuracy: {0}\".format(max(test_accs)))\n",
    "            print(\"Minimum loss: {0}\".format(min(losses)))\n",
    "\n",
    "            plt.title(dataset.name)\n",
    "            plt.plot(losses, label=\"training loss\" + \" - \" + args.model_type)\n",
    "            plt.plot(test_accs, label=\"test accuracy\" + \" - \" + args.model_type)\n",
    "        plt.legend()\n",
    "        plt.show()\n",
    "\n",
    "if __name__ == '__main__':\n",
    "    main()"
   ]
  },
  {
   "cell_type": "markdown",
   "metadata": {
    "id": "gHELqjARZ1W5"
   },
   "source": [
    "## Question 1.1: What is the maximum accuracy you could get on test set for GraphSage? (10 points)\n",
    "\n",
    "Submit your answers on Gradescope."
   ]
  },
  {
   "cell_type": "markdown",
   "metadata": {
    "id": "PlCtBEBLMBkR"
   },
   "source": [
    "## Question 1.2: What is the maximum accuracy you could get on test set for GAT? (10 points)\n",
    "\n",
    "Submit your answers on Gradescope."
   ]
  },
  {
   "cell_type": "markdown",
   "metadata": {
    "id": "Nwwq0nSdmsOL"
   },
   "source": [
    "# 2 DeepSNAP Basics\n",
    "\n",
    "In previous Colabs we used both of graph class (NetworkX) and tensor (PyG) representations of graphs separately. The graph class `nx.Graph` provides rich analysis and manipulation functionalities, such as the clustering coefficient and PageRank. To feed the graph into the model, we need to transform the graph into tensor representations including edge tensor `edge_index` and node attributes tensors `x` and `y`. But only using tensors (as the graphs formatted in PyG `datasets` and `data`) will make many graph manipulations and analysis less efficient and harder. So, in this Colab we will use DeepSNAP which combines both representations and offers a full pipeline for GNN training / validation / testing.\n"
   ]
  },
  {
   "cell_type": "markdown",
   "metadata": {
    "id": "Sf7vUmdNKCjA"
   },
   "source": [
    "In general, [DeepSNAP](https://github.com/snap-stanford/deepsnap) is a Python library to assist efficient deep learning on graphs. DeepSNAP features in its support for flexible graph manipulation, standard pipeline, heterogeneous graphs and simple API.\n",
    "\n",
    "1. DeepSNAP is easy to be used for the sophisticated graph manipulations, such as feature computation, pretraining, subgraph extraction etc. during/before the training.\n",
    "2. In most frameworks, standard pipelines for node, edge, link, graph-level tasks under inductive or transductive settings are left to the user to code. In practice, there are additional design choices involved (such as how to split dataset for link prediction). DeepSNAP provides such a standard pipeline that greatly saves repetitive coding efforts, and enables fair comparision for models.\n",
    "3. Many real-world graphs are heterogeneous graphs. But packages support for heterogeneous graphs, including data storage and flexible message passing, is lacking. DeepSNAP provides an efficient and flexible heterogeneous graph that supports both the node and edge heterogeneity.\n",
    "\n",
    "[DeepSNAP](https://github.com/snap-stanford/deepsnap) is a newly released project and it is still under development. If you find any bugs or have any improvement ideas, feel free to raise issues or create pull requests on the GitHub directly :)\n",
    "\n",
    "In this Colab, we will focus on DeepSNAP graph manipulations and splitting settings."
   ]
  },
  {
   "cell_type": "markdown",
   "metadata": {
    "id": "20SvvngpQmmQ"
   },
   "source": [
    "## Setup"
   ]
  },
  {
   "cell_type": "code",
   "execution_count": 19,
   "metadata": {
    "id": "zfbBVFmAQlwz"
   },
   "outputs": [],
   "source": [
    "import torch\n",
    "import networkx as nx\n",
    "import matplotlib.pyplot as plt\n",
    "\n",
    "from deepsnap.graph import Graph\n",
    "from deepsnap.batch import Batch\n",
    "from deepsnap.dataset import GraphDataset\n",
    "from torch_geometric.datasets import Planetoid, TUDataset\n",
    "\n",
    "from torch.utils.data import DataLoader\n",
    "\n",
    "def visualize(G, color_map=None, seed=123):\n",
    "  if color_map is None:\n",
    "    color_map = '#c92506'\n",
    "  plt.figure(figsize=(8, 8))\n",
    "  nodes = nx.draw_networkx_nodes(G, pos=nx.spring_layout(G, seed=seed), \\\n",
    "                                 label=None, node_color=color_map, node_shape='o', node_size=150)\n",
    "  edges = nx.draw_networkx_edges(G, pos=nx.spring_layout(G, seed=seed), alpha=0.5)\n",
    "  if color_map is not None:\n",
    "    plt.scatter([],[], c='#c92506', label='Nodes with label 0', edgecolors=\"black\", s=140)\n",
    "    plt.scatter([],[], c='#fcec00', label='Nodes with label 1', edgecolors=\"black\", s=140)\n",
    "    plt.legend(prop={'size': 13}, handletextpad=0)\n",
    "  nodes.set_edgecolor('black')\n",
    "  plt.show()"
   ]
  },
  {
   "cell_type": "markdown",
   "metadata": {
    "id": "ic-o1P3r6hr2"
   },
   "source": [
    "## DeepSNAP Graph\n",
    "\n",
    "The `deepsnap.graph.Graph` class is the core class of DeepSNAP. It not only represents a graph in tensor format but also references to a graph object from graph manipulation package.\n",
    "\n",
    "Currently DeepSNAP supports [NetworkX](https://networkx.org/) and [Snap.py](https://snap.stanford.edu/snappy/doc/index.html) as the back end graph manipulation package.\n",
    "\n",
    "In this Colab, we will use the NetworkX as the back end graph manipulation package."
   ]
  },
  {
   "cell_type": "markdown",
   "metadata": {
    "id": "Ispq_lIoJl_z"
   },
   "source": [
    "Lets first try to convert a simple random NetworkX graph to a DeepSNAP graph."
   ]
  },
  {
   "cell_type": "code",
   "execution_count": 20,
   "metadata": {
    "id": "zT5qca3x6XpG"
   },
   "outputs": [
    {
     "name": "stdout",
     "output_type": "stream",
     "text": [
      "(0, {'node_feature': tensor([0.0328, 0.0915, 0.2816, 0.2798, 0.2028]), 'node_label': tensor(1)})\n"
     ]
    },
    {
     "data": {
      "image/png": "[encoded data removed]",
      "text/plain": [
       "<Figure size 800x800 with 1 Axes>"
      ]
     },
     "metadata": {},
     "output_type": "display_data"
    },
    {
     "name": "stdout",
     "output_type": "stream",
     "text": [
      "Graph(G=[], edge_index=[2, 524], edge_label_index=[2, 524], node_feature=[100, 5], node_label=[100], node_label_index=[100])\n",
      "Node feature (node_feature) has shape torch.Size([100, 5]) and type torch.float32\n",
      "Node label (node_label) has shape torch.Size([100]) and type torch.int64\n",
      "Edge index (edge_index) has shape torch.Size([2, 524]) and type torch.int64\n",
      "The DeepSNAP graph has <class 'networkx.classes.graph.Graph'> as the internal manupulation graph\n"
     ]
    }
   ],
   "source": [
    "num_nodes = 100\n",
    "p = 0.05\n",
    "seed = 100\n",
    "\n",
    "# Generate a networkx random graph\n",
    "G = nx.gnp_random_graph(num_nodes, p, seed=seed)\n",
    "\n",
    "# Generate some random node features and labels\n",
    "node_feature = {node : torch.rand([5, ]) for node in G.nodes()}\n",
    "node_label = {node : torch.randint(0, 2, ()) for node in G.nodes()}\n",
    "\n",
    "# Set the random features and labels to G\n",
    "nx.set_node_attributes(G, node_feature, name='node_feature')\n",
    "nx.set_node_attributes(G, node_label, name='node_label')\n",
    "\n",
    "# Print one node example\n",
    "for node in G.nodes(data=True):\n",
    "  print(node)\n",
    "  break\n",
    "\n",
    "color_map = ['#c92506' if node[1]['node_label'].item() == 0 else '#fcec00' for node in G.nodes(data=True)]\n",
    "\n",
    "# Visualize the graph\n",
    "visualize(G, color_map=color_map)\n",
    "\n",
    "# Transform the networkx graph into the deepsnap graph\n",
    "graph = Graph(G)\n",
    "\n",
    "# Print out the general deepsnap graph information\n",
    "print(graph)\n",
    "\n",
    "# DeepSNAP will convert node attributes to tensors\n",
    "# Notice the type of tensors\n",
    "print(\"Node feature (node_feature) has shape {} and type {}\".format(graph.node_feature.shape, graph.node_feature.dtype))\n",
    "print(\"Node label (node_label) has shape {} and type {}\".format(graph.node_label.shape, graph.node_label.dtype))\n",
    "\n",
    "# DeepSNAP will also generate the edge_index tensor\n",
    "print(\"Edge index (edge_index) has shape {} and type {}\".format(graph.edge_index.shape, graph.edge_index.dtype))\n",
    "\n",
    "# Different from only storing tensors, deepsnap graph also references to the networkx graph\n",
    "# We will discuss why the reference will be helpful later\n",
    "print(\"The DeepSNAP graph has {} as the internal manupulation graph\".format(type(graph.G)))"
   ]
  },
  {
   "cell_type": "code",
   "execution_count": 22,
   "metadata": {},
   "outputs": [
    {
     "name": "stdout",
     "output_type": "stream",
     "text": [
      "Node label index: tensor([ 0,  1,  2,  3,  4,  5,  6,  7,  8,  9, 10, 11, 12, 13, 14, 15, 16, 17,\n",
      "        18, 19, 20, 21, 22, 23, 24, 25, 26, 27, 28, 29, 30, 31, 32, 33, 34, 35,\n",
      "        36, 37, 38, 39, 40, 41, 42, 43, 44, 45, 46, 47, 48, 49, 50, 51, 52, 53,\n",
      "        54, 55, 56, 57, 58, 59, 60, 61, 62, 63, 64, 65, 66, 67, 68, 69, 70, 71,\n",
      "        72, 73, 74, 75, 76, 77, 78, 79, 80, 81, 82, 83, 84, 85, 86, 87, 88, 89,\n",
      "        90, 91, 92, 93, 94, 95, 96, 97, 98, 99])\n"
     ]
    }
   ],
   "source": [
    "# Added by balvisio\n",
    "\n",
    "print(f\"Node label index: {graph.node_label_index}\")"
   ]
  },
  {
   "cell_type": "markdown",
   "metadata": {
    "id": "PNMbc307KOQD"
   },
   "source": [
    "In DeepSNAP we have three levels of attributes. In this example, we have the **node level** attributes including `node_feature` and `node_label`. The other two levels of attributes are graph and edge attributes. The usage is similar to the node level one except that the feature becomes `edge_feature` or `graph_feature` and label becomes `edge_label` or `graph_label` etc."
   ]
  },
  {
   "cell_type": "markdown",
   "metadata": {
    "id": "G8Xz58_Da0qL"
   },
   "source": [
    "Similar to the NetworkX graph, we can easily get some basic information of the graph through class properties directly."
   ]
  },
  {
   "cell_type": "code",
   "execution_count": 23,
   "metadata": {
    "id": "dLo4zWAoeg6S"
   },
   "outputs": [
    {
     "name": "stdout",
     "output_type": "stream",
     "text": [
      "The random graph has 100 nodes\n",
      "The random graph has 262 edges\n"
     ]
    }
   ],
   "source": [
    "# Number of nodes\n",
    "print(\"The random graph has {} nodes\".format(graph.num_nodes))\n",
    "\n",
    "# Number of edges\n",
    "print(\"The random graph has {} edges\".format(graph.num_edges))"
   ]
  },
  {
   "cell_type": "markdown",
   "metadata": {
    "id": "Po7IaRmwblI5"
   },
   "source": [
    "DeepSNAP also provides functions that can automatically transform the PyG datasets into a list of DeepSNAP graphs.\n",
    "\n",
    "Here we transform the CORA dataset into a list of DeepSNAP graphs."
   ]
  },
  {
   "cell_type": "code",
   "execution_count": 24,
   "metadata": {
    "id": "ZFkg2kCgcFwR"
   },
   "outputs": [
    {
     "name": "stdout",
     "output_type": "stream",
     "text": [
      "Graph(G=[], edge_index=[2, 10556], edge_label_index=[2, 10556], node_feature=[2708, 1433], node_label=[2708], node_label_index=[2708])\n"
     ]
    }
   ],
   "source": [
    "root = './tmp/cora'\n",
    "name = 'Cora'\n",
    "\n",
    "# The Cora dataset\n",
    "pyg_dataset= Planetoid(root, name)\n",
    "\n",
    "# PyG dataset to a list of deepsnap graphs\n",
    "graphs = GraphDataset.pyg_to_graphs(pyg_dataset)\n",
    "\n",
    "# Get the first deepsnap graph (CORA only has one graph)\n",
    "graph = graphs[0]\n",
    "print(graph)"
   ]
  },
  {
   "cell_type": "markdown",
   "metadata": {
    "id": "NLm5vVYMAP2x"
   },
   "source": [
    "## Question 2.1: What is the number of classes and number of features in the CORA graph? (5 points)\n",
    "\n",
    "Submit your answers on Gradescope."
   ]
  },
  {
   "cell_type": "code",
   "execution_count": 25,
   "metadata": {
    "id": "8iF_Kyqr_JbY"
   },
   "outputs": [
    {
     "name": "stdout",
     "output_type": "stream",
     "text": [
      "Cora has 7 classes\n",
      "Cora has 1433 features\n"
     ]
    }
   ],
   "source": [
    "def get_num_node_classes(graph):\n",
    "  # TODO: Implement this function that takes a deepsnap graph object\n",
    "  # and return the number of node classes of that graph.\n",
    "\n",
    "  num_node_classes = 0\n",
    "\n",
    "  ############# Your code here #############\n",
    "  ## (~1 line of code)\n",
    "  ## Note\n",
    "  ## 1. Colab autocomplete functionality might be useful\n",
    "  ## 2. DeepSNAP documentation might be useful https://snap.stanford.edu/deepsnap/modules/graph.html\n",
    "\n",
    "  num_node_classes = graph.num_node_labels\n",
    "  ##########################################\n",
    "\n",
    "  return num_node_classes\n",
    "\n",
    "def get_num_node_features(graph):\n",
    "  # TODO: Implement this function that takes a deepsnap graph object\n",
    "  # and return the number of node features of that graph.\n",
    "\n",
    "  num_node_features = 0\n",
    "\n",
    "  ############# Your code here #############\n",
    "  ## (~1 line of code)\n",
    "  ## Note\n",
    "  ## 1. Colab autocomplete functionality might be useful\n",
    "  ## 2. DeepSNAP documentation might be useful https://snap.stanford.edu/deepsnap/modules/graph.html\n",
    "  num_node_features = graph.num_node_features\n",
    "\n",
    "  ##########################################\n",
    "\n",
    "  return num_node_features\n",
    "\n",
    "num_node_classes = get_num_node_classes(graph)\n",
    "num_node_features = get_num_node_features(graph)\n",
    "print(\"{} has {} classes\".format(name, num_node_classes))\n",
    "print(\"{} has {} features\".format(name, num_node_features))"
   ]
  },
  {
   "cell_type": "markdown",
   "metadata": {
    "id": "rwKbzhHUAckZ"
   },
   "source": [
    "## DeepSNAP Dataset\n",
    "\n",
    "Now, lets talk about DeepSNAP dataset. A `deepsnap.dataset.GraphDataset` contains a list of `deepsnap.graph.Graph` objects. In addition to list of graphs, you can also specify what task the dataset will be used on, such as node level task (`task=node`), edge level task (`task=link_pred`) and graph level task (`task=graph`).\n",
    "\n",
    "It also contains many other useful parameters during initialization and other functinoalities. If you are interested, you can take a look at the [documentation](https://snap.stanford.edu/deepsnap/modules/dataset.html#deepsnap-graphdataset)."
   ]
  },
  {
   "cell_type": "markdown",
   "metadata": {
    "id": "HSidf9E0hn2s"
   },
   "source": [
    "Lets now use COX2 dataset which contains a list of graphs and specify the task to `graph` when we initialize the DeepSNAP dataset."
   ]
  },
  {
   "cell_type": "code",
   "execution_count": 26,
   "metadata": {
    "id": "l4kqUldyoaS_"
   },
   "outputs": [
    {
     "name": "stderr",
     "output_type": "stream",
     "text": [
      "Downloading https://www.chrsmrrs.com/graphkerneldatasets/COX2.zip\n",
      "Extracting tmp/cox2/COX2/COX2.zip\n",
      "Processing...\n",
      "Done!\n"
     ]
    },
    {
     "name": "stdout",
     "output_type": "stream",
     "text": [
      "GraphDataset(467)\n"
     ]
    }
   ],
   "source": [
    "root = './tmp/cox2'\n",
    "name = 'COX2'\n",
    "\n",
    "# Load the dataset through PyG\n",
    "pyg_dataset = TUDataset(root, name)\n",
    "\n",
    "# Convert to a list of deepsnap graphs\n",
    "graphs = GraphDataset.pyg_to_graphs(pyg_dataset)\n",
    "\n",
    "# Convert list of deepsnap graphs to deepsnap dataset with specified task=graph\n",
    "dataset = GraphDataset(graphs, task='graph')\n",
    "print(dataset)"
   ]
  },
  {
   "cell_type": "markdown",
   "metadata": {
    "id": "7sCV3xJWCddX"
   },
   "source": [
    "## Question 2.2: What is the label of the graph (index 100 in the COX2 dataset)? (5 points)\n",
    "\n",
    "Submit your answers on Gradescope."
   ]
  },
  {
   "cell_type": "code",
   "execution_count": 33,
   "metadata": {
    "id": "LIis9oTZAfs3"
   },
   "outputs": [
    {
     "name": "stdout",
     "output_type": "stream",
     "text": [
      "Graph(G=[], edge_index=[2, 82], edge_label_index=[2, 82], graph_label=[1], node_feature=[39, 35], node_label_index=[39], task=[])\n",
      "Graph with index 100 has label 0\n"
     ]
    }
   ],
   "source": [
    "def get_graph_class(dataset, idx):\n",
    "  # TODO: Implement this function that takes a deepsnap dataset object,\n",
    "  # the index of the graph in the dataset, and returns the class/label\n",
    "  # of the graph (in integer).\n",
    "\n",
    "  label = -1\n",
    "\n",
    "  ############# Your code here ############\n",
    "  ## (~1 line of code)\n",
    "  ## Note\n",
    "  ## 1. The label refers to the graph-level attribute\n",
    "  label = int(dataset[idx].graph_label)\n",
    "\n",
    "  #########################################\n",
    "\n",
    "  return label\n",
    "\n",
    "graph_0 = dataset[0]\n",
    "print(graph_0)\n",
    "idx = 100\n",
    "label = get_graph_class(dataset, idx)\n",
    "print('Graph with index {} has label {}'.format(idx, label))"
   ]
  },
  {
   "cell_type": "markdown",
   "metadata": {
    "id": "fKhcVeAhCwoY"
   },
   "source": [
    "## Question 2.3: What is the number of edges for the graph (index 200 in the COX2 dataset)? (5 points)\n",
    "\n",
    "Submit your answers on Gradescope."
   ]
  },
  {
   "cell_type": "code",
   "execution_count": 34,
   "metadata": {
    "id": "f5m2DOfhBtWv"
   },
   "outputs": [
    {
     "name": "stdout",
     "output_type": "stream",
     "text": [
      "Graph with index 200 has 49 edges\n"
     ]
    }
   ],
   "source": [
    "def get_graph_num_edges(dataset, idx):\n",
    "  # TODO: Implement this function that takes a deepsnap dataset object,\n",
    "  # the index of the graph in dataset, and returns the number of\n",
    "  # edges in the graph (in integer).\n",
    "\n",
    "  num_edges = 0\n",
    "\n",
    "  ############# Your code here ############\n",
    "  ## (~1 lines of code)\n",
    "  ## Note\n",
    "  ## 1. You can use the class property directly\n",
    "  num_edges = dataset[idx].num_edges\n",
    "\n",
    "  #########################################\n",
    "\n",
    "  return num_edges\n",
    "\n",
    "idx = 200\n",
    "num_edges = get_graph_num_edges(dataset, idx)\n",
    "print('Graph with index {} has {} edges'.format(idx, num_edges))"
   ]
  },
  {
   "cell_type": "markdown",
   "metadata": {
    "id": "AXa7yIG4E0Fp"
   },
   "source": [
    "# 3 DeepSNAP Advanced\n",
    "\n",
    "We have learned the basic use of DeepSNAP graph and dataset :)\n",
    "\n",
    "Lets move on to some more advanced functionalities.\n",
    "\n",
    "In this section we will use DeepSNAP for faeture computation and transductive/inductive splittings."
   ]
  },
  {
   "cell_type": "markdown",
   "metadata": {
    "id": "Y5fsGBLY8cxa"
   },
   "source": [
    "## Setup"
   ]
  },
  {
   "cell_type": "code",
   "execution_count": 35,
   "metadata": {
    "id": "g-jgRLiQ8cSj"
   },
   "outputs": [],
   "source": [
    "import torch\n",
    "import networkx as nx\n",
    "import matplotlib.pyplot as plt\n",
    "\n",
    "from deepsnap.graph import Graph\n",
    "from deepsnap.batch import Batch\n",
    "from deepsnap.dataset import GraphDataset\n",
    "from torch_geometric.datasets import Planetoid, TUDataset\n",
    "\n",
    "from torch.utils.data import DataLoader"
   ]
  },
  {
   "cell_type": "markdown",
   "metadata": {
    "id": "HnazPGGAJAZN"
   },
   "source": [
    "## Data Split in Graphs\n",
    "\n",
    "Data splitting in graphs can be much harder than that in CV or NLP.\n",
    "\n",
    "In general, the data splitting in graphs can be divided into two settings, **inductive** and **transductive**."
   ]
  },
  {
   "cell_type": "markdown",
   "metadata": {
    "id": "l9KG_MhqsWBp"
   },
   "source": [
    "## Inductive Split\n",
    "\n",
    "As what we have learned in the lecture, inductive setting will split multiple graphs into each training/valiation and test sets.\n",
    "\n",
    "Here is an example of DeepSNAP inductive splitting for a list of graphs in the graph level task (graph classification etc.)"
   ]
  },
  {
   "cell_type": "code",
   "execution_count": 36,
   "metadata": {
    "id": "Gpc6bTm3GF02"
   },
   "outputs": [
    {
     "name": "stdout",
     "output_type": "stream",
     "text": [
      "COX2 train dataset: GraphDataset(373)\n",
      "COX2 validation dataset: GraphDataset(46)\n",
      "COX2 test dataset: GraphDataset(48)\n"
     ]
    }
   ],
   "source": [
    "root = './tmp/cox2'\n",
    "name = 'COX2'\n",
    "\n",
    "pyg_dataset = TUDataset(root, name)\n",
    "\n",
    "graphs = GraphDataset.pyg_to_graphs(pyg_dataset)\n",
    "\n",
    "# Here we specify the task as graph-level task such as graph classification\n",
    "task = 'graph'\n",
    "dataset = GraphDataset(graphs, task=task)\n",
    "\n",
    "# Specify transductive=False (inductive)\n",
    "dataset_train, dataset_val, dataset_test = dataset.split(transductive=False, split_ratio=[0.8, 0.1, 0.1])\n",
    "\n",
    "print(\"COX2 train dataset: {}\".format(dataset_train))\n",
    "print(\"COX2 validation dataset: {}\".format(dataset_val))\n",
    "print(\"COX2 test dataset: {}\".format(dataset_test))"
   ]
  },
  {
   "cell_type": "markdown",
   "metadata": {
    "id": "yWKQwa4WsgQp"
   },
   "source": [
    "## Transductive Split\n",
    "\n",
    "In transductive setting, the training /validation / test sets are on the same graph.\n",
    "\n",
    "Here we transductively split the CORA graph in the node level task.\n",
    "\n",
    "(Notice that in DeepSNAP default setting the split is random, but you can also make a fixed split by specifying `fixed_split=True` when loading the dataset from PyG or changing the `node_label_index` directly)."
   ]
  },
  {
   "cell_type": "code",
   "execution_count": 37,
   "metadata": {
    "id": "b5OdxSg4sfyR"
   },
   "outputs": [
    {
     "name": "stdout",
     "output_type": "stream",
     "text": [
      "Cora train dataset: GraphDataset(1)\n",
      "Cora validation dataset: GraphDataset(1)\n",
      "Cora test dataset: GraphDataset(1)\n",
      "Original Cora has 2708 nodes\n",
      "After the split, Cora has 2166 training nodes\n",
      "After the split, Cora has 270 validation nodes\n",
      "After the split, Cora has 272 test nodes\n"
     ]
    }
   ],
   "source": [
    "root = './tmp/cora'\n",
    "name = 'Cora'\n",
    "\n",
    "pyg_dataset = Planetoid(root, name)\n",
    "\n",
    "graphs = GraphDataset.pyg_to_graphs(pyg_dataset)\n",
    "\n",
    "# Here we specify the task as node-level task such as node classification\n",
    "task = 'node'\n",
    "\n",
    "dataset = GraphDataset(graphs, task=task)\n",
    "\n",
    "# Specify we want the transductive splitting\n",
    "dataset_train, dataset_val, dataset_test = dataset.split(transductive=True, split_ratio=[0.8, 0.1, 0.1])\n",
    "\n",
    "print(\"Cora train dataset: {}\".format(dataset_train))\n",
    "print(\"Cora validation dataset: {}\".format(dataset_val))\n",
    "print(\"Cora test dataset: {}\".format(dataset_test))\n",
    "\n",
    "print(\"Original Cora has {} nodes\".format(dataset.num_nodes[0]))\n",
    "\n",
    "# The nodes in each set can be find in node_label_index\n",
    "print(\"After the split, Cora has {} training nodes\".format(dataset_train[0].node_label_index.shape[0]))\n",
    "print(\"After the split, Cora has {} validation nodes\".format(dataset_val[0].node_label_index.shape[0]))\n",
    "print(\"After the split, Cora has {} test nodes\".format(dataset_test[0].node_label_index.shape[0]))"
   ]
  },
  {
   "cell_type": "markdown",
   "metadata": {
    "id": "d7ePKgM00lGE"
   },
   "source": [
    "## Edge Level Split\n",
    "\n",
    "Compared to the node and graph level splitting, edge level splitting is a little bit tricky ;)\n",
    "\n",
    "Usually in edge level splitting, we need to sample negative edges, split positive edges into different datasets, split training edges into message passing edges and supervision edges, and resample the negative edges during the training etc."
   ]
  },
  {
   "cell_type": "markdown",
   "metadata": {},
   "source": [
    "## Edge Train Mode (Added by balvisio)\n",
    "\n",
    "Reference: https://snap.stanford.edu/deepsnap/modules/dataset.html#deepsnap-graphdataset\n",
    "\n",
    "Tutorial: https://colab.research.google.com/drive/1ycdlJuse7l2De7wi51lFd_nCuaWgVABc?usp=sharing\n",
    "(Saved in https://github.com/balvisio/ml-exercises/blob/e458578f9c8d909fecba03171f922d98ee423426/cs224w/Link_Prediction_with_DeepSNAP.ipynb)\n",
    "\n",
    "The main difference between 'all' and 'disjoint' mode is that:\n",
    "\n",
    "1. In `all` mode:\n",
    "- At training time: the training supervision edges are same with the training message passing edges.\n",
    "- At validation time: the message passing edges are the training message passing edges and training supervision edges (still the training message passing edges in this case). The validation supervision edges are disjoint with training supervision edges.\n",
    "- At test time: the message passing edges are the union of training message passing edges, training supervision edges, and validation supervision edges. The test supervision edges are disjoint with training supervision edges and validation supervision edges.\n",
    "\n",
    "2. In `disjoint` mode:\n",
    "- At training time: the training supervision edges are disjoint with the training message passing edges.\n",
    "- At validation time: the message passing edges are the union of training message passing edges and training supervision edges. Notice that the validation supervision edges are disjoint with training supervision edges.\n",
    "- At test time: the message passing edges are the training message passing edges, training supervision edges, and validation supervision edges. The test supervision edges are disjoint with training supervision edges and validation supervision edges."
   ]
  },
  {
   "cell_type": "markdown",
   "metadata": {
    "id": "SnzISX5RoiR6"
   },
   "source": [
    "### All Mode\n",
    "\n",
    "Now lets start with a simpler edge level splitting mode, the `edge_train_mode=\"all\"` mode in DeepSNAP."
   ]
  },
  {
   "cell_type": "code",
   "execution_count": 188,
   "metadata": {
    "id": "_D104xO6137n"
   },
   "outputs": [
    {
     "name": "stdout",
     "output_type": "stream",
     "text": [
      "Cora train dataset: GraphDataset(1)\n",
      "Cora validation dataset: GraphDataset(1)\n",
      "Cora test dataset: GraphDataset(1)\n"
     ]
    }
   ],
   "source": [
    "root = './tmp/cora'\n",
    "name = 'Cora'\n",
    "\n",
    "pyg_dataset = Planetoid(root, name)\n",
    "\n",
    "graphs = GraphDataset.pyg_to_graphs(pyg_dataset)\n",
    "\n",
    "# Specify task as link_pred for edge-level task\n",
    "task = 'link_pred'\n",
    "\n",
    "# Specify the train mode, \"all\" mode is default for deepsnap dataset\n",
    "edge_train_mode = \"all\"\n",
    "\n",
    "dataset = GraphDataset(graphs, task=task, edge_train_mode=edge_train_mode)\n",
    "\n",
    "# Transductive link prediction split\n",
    "dataset_train, dataset_val, dataset_test = dataset.split(transductive=True, split_ratio=[0.8, 0.1, 0.1])\n",
    "\n",
    "print(\"Cora train dataset: {}\".format(dataset_train))\n",
    "print(\"Cora validation dataset: {}\".format(dataset_val))\n",
    "print(\"Cora test dataset: {}\".format(dataset_test))"
   ]
  },
  {
   "cell_type": "markdown",
   "metadata": {
    "id": "GscopwOXC_Y7"
   },
   "source": [
    "In DeepSNAP, the indices of supervision edges are stored in `edge_label_index` tensor and the corresponding edge labels are stored in `edge_label` tensor."
   ]
  },
  {
   "cell_type": "code",
   "execution_count": 189,
   "metadata": {
    "id": "XJF8fZnA2eLR"
   },
   "outputs": [
    {
     "name": "stdout",
     "output_type": "stream",
     "text": [
      "Original Cora graph has 5278 edges\n",
      "Because Cora graph is undirected, the original edge_index has shape torch.Size([2, 10556])\n",
      "The training set has message passing edge index shape torch.Size([2, 8444])\n",
      "The training set has supervision edge index shape torch.Size([2, 16888])\n",
      "The validation set has message passing edge index shape torch.Size([2, 8444])\n",
      "The validation set has supervision edge index shape torch.Size([2, 2108])\n",
      "The test set has message passing edge index shape torch.Size([2, 9498])\n",
      "The test set has supervision edge index shape torch.Size([2, 2116])\n"
     ]
    }
   ],
   "source": [
    "print(\"Original Cora graph has {} edges\".format(dataset[0].num_edges))\n",
    "print(\"Because Cora graph is undirected, the original edge_index has shape {}\".format(dataset[0].edge_index.shape))\n",
    "\n",
    "print(\"The training set has message passing edge index shape {}\".format(dataset_train[0].edge_index.shape))\n",
    "print(\"The training set has supervision edge index shape {}\".format(dataset_train[0].edge_label_index.shape))\n",
    "\n",
    "print(\"The validation set has message passing edge index shape {}\".format(dataset_val[0].edge_index.shape))\n",
    "print(\"The validation set has supervision edge index shape {}\".format(dataset_val[0].edge_label_index.shape))\n",
    "\n",
    "print(\"The test set has message passing edge index shape {}\".format(dataset_test[0].edge_index.shape))\n",
    "print(\"The test set has supervision edge index shape {}\".format(dataset_test[0].edge_label_index.shape))"
   ]
  },
  {
   "cell_type": "markdown",
   "metadata": {
    "id": "s6BX-I_oEKQX"
   },
   "source": [
    "We can see that both training and validation sets have the same message passing edges (`edge_index`) in the `all` mode. Also, in training set, the postive supervision edges (`edge_label_index`) are same with the message passing edges. However, in the test set the message passing edges are the combination of message passing edges from training and validation sets.\n",
    "\n",
    "Notice that the `edge_label` and `edge_label_index` have included the negative edges (default number of negative edges is same with the number of positive edges).\n",
    "\n",
    "Now, lets implement a function that checks whether two edge index tensors are disjoint and explore more edge splitting properties by using that function."
   ]
  },
  {
   "cell_type": "markdown",
   "metadata": {
    "id": "YOZHDskbAKN6"
   },
   "source": [
    "## Question 3.1 - 3.5: Implement the function that checks whether two edge_index tensors are disjoint. Then answer the True/False questions below. (5 points)\n",
    "\n",
    "Submit your answers on Gradescope."
   ]
  },
  {
   "cell_type": "code",
   "execution_count": 190,
   "metadata": {
    "id": "wgRYdyPp8EmO"
   },
   "outputs": [],
   "source": [
    "def edge_indices_disjoint(edge_index_1, edge_index_2):\n",
    "  # TODO: Implement this function that takes two edge index tensors,\n",
    "  # and returns whether these two edge index tensors are disjoint.\n",
    "  disjoint = None\n",
    "\n",
    "  ############# Your code here ############\n",
    "  ## (~5 lines of code)\n",
    "  ## Note\n",
    "  ## 1. Here disjoint means that there is no single edge belongs to either edge index tensors\n",
    "  ## 2. You do not need to consider the undirected case. For example, if edge_index_1 contains\n",
    "  ## edge (a, b) and edge_index_2 contains edge (b, a). We will treat them as disjoint in this\n",
    "  ## function.\n",
    "  disjoint = True\n",
    "  edge_set = set()\n",
    "  for edge in edge_index_1.t():\n",
    "    edge_set.add((edge[0], edge[1]))\n",
    "\n",
    "  for edge in edge_index_2.t():\n",
    "    if (edge[0], edge[1]) in edge_set:\n",
    "      disjoint = False\n",
    "      break\n",
    "  #########################################\n",
    "\n",
    "  return disjoint"
   ]
  },
  {
   "cell_type": "code",
   "execution_count": 191,
   "metadata": {
    "id": "EL4ASIDDEIUf"
   },
   "outputs": [
    {
     "name": "stdout",
     "output_type": "stream",
     "text": [
      "3.1 Training (supervision) positve and negative edges are disjoint = True\n",
      "3.2 Validation (supervision) positve and negative edges are disjoint = True\n",
      "3.3 Test (supervision) positve and negative edges are disjoint = True\n",
      "3.4 Test (supervision) positve and validation (supervision) positve edges are disjoint = True\n",
      "3.5 Validation (supervision) positve and training (supervision) positve edges are disjoint = True\n"
     ]
    }
   ],
   "source": [
    "num_train_edges = dataset_train[0].edge_label_index.shape[1] // 2\n",
    "train_pos_edge_index = dataset_train[0].edge_label_index[:, :num_train_edges]\n",
    "train_neg_edge_index = dataset_train[0].edge_label_index[:, num_train_edges:]\n",
    "print(\"3.1 Training (supervision) positve and negative edges are disjoint = {}\"\\\n",
    "        .format(edge_indices_disjoint(train_pos_edge_index, train_neg_edge_index)))\n",
    "\n",
    "num_val_edges = dataset_val[0].edge_label_index.shape[1] // 2\n",
    "val_pos_edge_index = dataset_val[0].edge_label_index[:, :num_val_edges]\n",
    "val_neg_edge_index = dataset_val[0].edge_label_index[:, num_val_edges:]\n",
    "print(\"3.2 Validation (supervision) positve and negative edges are disjoint = {}\"\\\n",
    "        .format(edge_indices_disjoint(val_pos_edge_index, val_neg_edge_index)))\n",
    "\n",
    "num_test_edges = dataset_test[0].edge_label_index.shape[1] // 2\n",
    "test_pos_edge_index = dataset_test[0].edge_label_index[:, :num_test_edges]\n",
    "test_neg_edge_index = dataset_test[0].edge_label_index[:, num_test_edges:]\n",
    "print(\"3.3 Test (supervision) positve and negative edges are disjoint = {}\"\\\n",
    "        .format(edge_indices_disjoint(test_pos_edge_index, test_neg_edge_index)))\n",
    "\n",
    "print(\"3.4 Test (supervision) positve and validation (supervision) positve edges are disjoint = {}\"\\\n",
    "        .format(edge_indices_disjoint(test_pos_edge_index, val_pos_edge_index)))\n",
    "print(\"3.5 Validation (supervision) positve and training (supervision) positve edges are disjoint = {}\"\\\n",
    "        .format(edge_indices_disjoint(val_pos_edge_index, train_pos_edge_index)))"
   ]
  },
  {
   "cell_type": "markdown",
   "metadata": {
    "id": "8jLoVN5ZBTuA"
   },
   "source": [
    "### Disjoint Mode\n",
    "\n",
    "Now lets look at a relatively more complex transductive edge split setting, which is the `edge_train_mode=\"disjoint\"` mode in DeepSNAP (also the transductive link prediction splitting talked in the lecture)"
   ]
  },
  {
   "cell_type": "code",
   "execution_count": 192,
   "metadata": {
    "id": "3Rqzfb-0BTBm"
   },
   "outputs": [
    {
     "name": "stdout",
     "output_type": "stream",
     "text": [
      "The edge index of original graph has shape: torch.Size([2, 10556])\n",
      "The edge index of training message edges has shape: torch.Size([2, 6754])\n",
      "The edge index of training supervision edges has shape: torch.Size([2, 3380])\n",
      "The edge index of validation message edges has shape: torch.Size([2, 8444])\n",
      "The edge index of validation supervision edges has shape: torch.Size([2, 2108])\n",
      "The edge index of test message edges has shape: torch.Size([2, 9498])\n",
      "The edge index of test supervision edges has shape: torch.Size([2, 2116])\n"
     ]
    }
   ],
   "source": [
    "edge_train_mode = \"disjoint\"\n",
    "\n",
    "dataset = GraphDataset(graphs, task='link_pred', edge_train_mode=edge_train_mode)\n",
    "orig_edge_index = dataset[0].edge_index\n",
    "dataset_train, dataset_val, dataset_test = dataset.split(\n",
    "    transductive=True, split_ratio=[0.8, 0.1, 0.1])\n",
    "\n",
    "train_message_edge_index = dataset_train[0].edge_index\n",
    "train_sup_edge_index = dataset_train[0].edge_label_index\n",
    "val_sup_edge_index = dataset_val[0].edge_label_index\n",
    "test_sup_edge_index = dataset_test[0].edge_label_index\n",
    "\n",
    "print(\"The edge index of original graph has shape: {}\".format(orig_edge_index.shape))\n",
    "print(\"The edge index of training message edges has shape: {}\".format(train_message_edge_index.shape))\n",
    "print(\"The edge index of training supervision edges has shape: {}\".format(train_sup_edge_index.shape))\n",
    "print(\"The edge index of validation message edges has shape: {}\".format(dataset_val[0].edge_index.shape))\n",
    "print(\"The edge index of validation supervision edges has shape: {}\".format(val_sup_edge_index.shape))\n",
    "print(\"The edge index of test message edges has shape: {}\".format(dataset_test[0].edge_index.shape))\n",
    "print(\"The edge index of test supervision edges has shape: {}\".format(test_sup_edge_index.shape))"
   ]
  },
  {
   "cell_type": "markdown",
   "metadata": {
    "id": "TUkBhiJNciol"
   },
   "source": [
    "You can see that the training / validation message passing edges and training supervision edges are splitted differently in those two modes!"
   ]
  },
  {
   "cell_type": "markdown",
   "metadata": {
    "id": "2WKfRjqAJHtK"
   },
   "source": [
    "### Resample Negative Edges\n",
    "\n",
    "During each training iteration, we usually need to resample the negative edges.\n",
    "\n",
    "Below we print the training and validation sets negative edges in two training iterations.\n",
    "\n",
    "You should find that the negative edges in training set will be resampled."
   ]
  },
  {
   "cell_type": "code",
   "execution_count": 193,
   "metadata": {
    "id": "AMEbnx63JHWj"
   },
   "outputs": [
    {
     "name": "stdout",
     "output_type": "stream",
     "text": [
      "First iteration training negative edges:\n",
      "tensor([[ 554, 1489,  278,  ..., 2325,  688, 2706],\n",
      "        [1439, 2268, 1669,  ..., 2017, 2586,  783]])\n",
      "Second iteration training negative edges:\n",
      "tensor([[1620, 2536, 1095,  ...,  109, 2583, 2016],\n",
      "        [1813,  399, 1944,  ..., 1905, 1313,  669]])\n",
      "First iteration validation negative edges:\n",
      "tensor([[1439, 2268,  620,  ...,  261, 1767, 1521],\n",
      "        [2350, 1955, 2625,  ...,  412, 1964, 1352]])\n",
      "Second iteration validation negative edges:\n",
      "tensor([[1439, 2268,  620,  ...,  261, 1767, 1521],\n",
      "        [2350, 1955, 2625,  ...,  412, 1964, 1352]])\n"
     ]
    }
   ],
   "source": [
    "dataset = GraphDataset(graphs, task='link_pred', edge_train_mode=\"disjoint\")\n",
    "datasets = {}\n",
    "follow_batch = []\n",
    "datasets['train'], datasets['val'], datasets['test'] = dataset.split(\n",
    "    transductive=True, split_ratio=[0.8, 0.1, 0.1])\n",
    "dataloaders = {\n",
    "  split: DataLoader(\n",
    "    ds, collate_fn=Batch.collate(follow_batch),\n",
    "    batch_size=1, shuffle=(split=='train')\n",
    "  )\n",
    "  for split, ds in datasets.items()\n",
    "}\n",
    "neg_edges_1 = None\n",
    "for batch in dataloaders['train']:\n",
    "  num_edges = batch.edge_label_index.shape[1] // 2\n",
    "  neg_edges_1 = batch.edge_label_index[:, num_edges:]\n",
    "  print(\"First iteration training negative edges:\")\n",
    "  print(neg_edges_1)\n",
    "  break\n",
    "neg_edges_2 = None\n",
    "for batch in dataloaders['train']:\n",
    "  num_edges = batch.edge_label_index.shape[1] // 2\n",
    "  neg_edges_2 = batch.edge_label_index[:, num_edges:]\n",
    "  print(\"Second iteration training negative edges:\")\n",
    "  print(neg_edges_2)\n",
    "  break\n",
    "\n",
    "neg_edges_1 = None\n",
    "for batch in dataloaders['val']:\n",
    "  num_edges = batch.edge_label_index.shape[1] // 2\n",
    "  neg_edges_1 = batch.edge_label_index[:, num_edges:]\n",
    "  print(\"First iteration validation negative edges:\")\n",
    "  print(neg_edges_1)\n",
    "  break\n",
    "neg_edges_2 = None\n",
    "for batch in dataloaders['val']:\n",
    "  num_edges = batch.edge_label_index.shape[1] // 2\n",
    "  neg_edges_2 = batch.edge_label_index[:, num_edges:]\n",
    "  print(\"Second iteration validation negative edges:\")\n",
    "  print(neg_edges_2)\n",
    "  break"
   ]
  },
  {
   "cell_type": "markdown",
   "metadata": {
    "id": "DEzqh7wEdrh0"
   },
   "source": [
    "If you are interested in more graph splitting settings, please refer to the DeepSNAP dataset [documentation](https://snap.stanford.edu/deepsnap/modules/dataset.html)."
   ]
  },
  {
   "cell_type": "markdown",
   "metadata": {
    "id": "XkrYyeSUI_9_"
   },
   "source": [
    "## Graph Transformation and Feature Computation\n",
    "\n",
    "The other DeepSNAP core functionality is graph transformation / feature computation.\n",
    "\n",
    "In DeepSNAP, we divide graph transformation / feature computation into two different types. One is the transformation before training (transform the whole dataset before training directly) and another one is the transformation during training (transform batches of graphs).\n",
    "\n",
    "Here is an example that uses NetworkX back end to calculate the PageRank value and update the value to tensors before the training (transform the dataset)."
   ]
  },
  {
   "cell_type": "code",
   "execution_count": 194,
   "metadata": {
    "id": "gnAVbZINLZ4I"
   },
   "outputs": [
    {
     "name": "stdout",
     "output_type": "stream",
     "text": [
      "Number of features before transformation: 35\n",
      "Number of features after transformation: 36\n"
     ]
    }
   ],
   "source": [
    "def pagerank_transform_fn(graph):\n",
    "\n",
    "  # Get the referenced networkx graph\n",
    "  G = graph.G\n",
    "\n",
    "  # Calculate the pagerank by using networkx\n",
    "  pr = nx.pagerank(G)\n",
    "\n",
    "  # Transform the pagerank values to tensor\n",
    "  pr_feature = torch.tensor([pr[node] for node in range(graph.num_nodes)], dtype=torch.float32)\n",
    "  pr_feature = pr_feature.view(graph.num_nodes, 1)\n",
    "\n",
    "  # Concat the pagerank values to the node feature\n",
    "  graph.node_feature = torch.cat([graph.node_feature, pr_feature], dim=-1)\n",
    "\n",
    "root = './tmp/cox2'\n",
    "name = 'COX2'\n",
    "pyg_dataset = TUDataset(root, name)\n",
    "graphs = GraphDataset.pyg_to_graphs(pyg_dataset)\n",
    "dataset = GraphDataset(graphs, task='graph')\n",
    "print(\"Number of features before transformation: {}\".format(dataset.num_node_features))\n",
    "dataset.apply_transform(pagerank_transform_fn, update_tensor=False)\n",
    "print(\"Number of features after transformation: {}\".format(dataset.num_node_features))"
   ]
  },
  {
   "cell_type": "markdown",
   "metadata": {
    "id": "LHByE87SQkUw"
   },
   "source": [
    "## Question 3.6: Implement the transformation below and report the clustering coefficient of the node (index 3) of the graph (index 406) in the COX2 dataset. Rounded the answer to two decimal places. (5 points)"
   ]
  },
  {
   "cell_type": "code",
   "execution_count": 195,
   "metadata": {
    "id": "RNEjfOZRNjYb"
   },
   "outputs": [
    {
     "name": "stdout",
     "output_type": "stream",
     "text": [
      "The node has clustering coefficient: 0.17\n"
     ]
    }
   ],
   "source": [
    "# balvisio: This function will be called multiple times per dataset (one per graph)\n",
    "\n",
    "def cluster_transform_fn(graph):\n",
    "  # TODO: Implement this function that takes an deepsnap graph object,\n",
    "  # transform the graph by adding nodes clustering coefficient into the\n",
    "  # graph.node_feature\n",
    "\n",
    "  ############# Your code here ############\n",
    "  ## (~5 lines of code)\n",
    "  ## Note\n",
    "  ## 1. Compute the clustering coefficient value for each node and\n",
    "  ## concat them to the last dimension of graph.node_feature\n",
    "  # Get the referenced networkx graph\n",
    "  G = graph.G\n",
    "\n",
    "  # Calculate the clustering by using networkx\n",
    "  cr = nx.clustering(G)\n",
    "\n",
    "  # Transform the clustering coefficient values to tensor\n",
    "  cr_feature = torch.tensor([cr[node] for node in range(graph.num_nodes)], dtype=torch.float32)\n",
    "  cr_feature = cr_feature.view(graph.num_nodes, 1)\n",
    "\n",
    "  # Concat the pagerank values to the node feature\n",
    "  graph.node_feature = torch.cat([graph.node_feature, cr_feature], dim=-1)\n",
    "\n",
    "  #########################################\n",
    "\n",
    "root = './cox2'\n",
    "name = 'COX2'\n",
    "pyg_dataset = TUDataset(root, name)\n",
    "graphs = GraphDataset.pyg_to_graphs(pyg_dataset)\n",
    "dataset = GraphDataset(graphs, task='graph')\n",
    "\n",
    "# Transform the dataset\n",
    "dataset.apply_transform(cluster_transform_fn, update_tensor=False)\n",
    "\n",
    "node_idx = 3\n",
    "graph_idx = 406\n",
    "node_feature = dataset[graph_idx].node_feature\n",
    "\n",
    "print(\"The node has clustering coefficient: {}\".format(round(node_feature[node_idx][-1].item(), 2)))"
   ]
  },
  {
   "cell_type": "markdown",
   "metadata": {
    "id": "4P5Ig7XaPYzp"
   },
   "source": [
    "Apart from transforming the dataset, DeepSNAP can also transform the graph (usually the `deepsnap.batch.Batch`) during each training iteration.\n",
    "\n",
    "Also, DeepSNAP supports the synchronization of the transformation between the referenced graph objects and tensor representations. For example, you can just update the NetworkX graph object in the transform function, and by specifying `update_tensor=True` the internal tensor representations will be automatically updated.\n",
    "\n",
    "For more information, please refer to the DeepSNAP [documentation](https://snap.stanford.edu/deepsnap/)."
   ]
  },
  {
   "cell_type": "markdown",
   "metadata": {
    "id": "s-YLYMLFQYqp"
   },
   "source": [
    "# 4 Edge Level Prediction\n",
    "\n",
    "From last section, we know how DeepSNAP transductive split the edges in the link prediction task.\n",
    "\n",
    "Now lets use DeepSNAP and PyG together to implement a edge level prediction (link prediction) model!"
   ]
  },
  {
   "cell_type": "markdown",
   "metadata": {},
   "source": [
    "# Tutorial on how to create a Model for Link Level Prediction\n",
    "\n",
    "https://github.com/pyg-team/pytorch_geometric/blob/ff9fb3d7cdbaa2f2b8a848fb6cc5f4c3f465118c/examples/link_pred.py"
   ]
  },
  {
   "cell_type": "code",
   "execution_count": 196,
   "metadata": {
    "id": "hrKCNtvERypQ"
   },
   "outputs": [],
   "source": [
    "import copy\n",
    "import torch\n",
    "import numpy as np\n",
    "import networkx as nx\n",
    "import matplotlib.pyplot as plt\n",
    "\n",
    "from deepsnap.graph import Graph\n",
    "from deepsnap.batch import Batch\n",
    "from deepsnap.dataset import GraphDataset\n",
    "from torch_geometric.datasets import Planetoid, TUDataset\n",
    "\n",
    "from torch.utils.data import DataLoader\n",
    "\n",
    "import torch.nn.functional as F\n",
    "from torch_geometric.nn import SAGEConv\n",
    "\n",
    "class LinkPredModel(torch.nn.Module):\n",
    "    def __init__(self, input_dim, hidden_dim, num_classes, dropout=0.2):\n",
    "        super(LinkPredModel, self).__init__()\n",
    "\n",
    "        self.conv1 = SAGEConv(input_dim, hidden_dim)\n",
    "        self.conv2 = SAGEConv(hidden_dim, num_classes)\n",
    "\n",
    "        self.loss_fn = None\n",
    "\n",
    "        ############# Your code here #############\n",
    "        ## (~1 line of code)\n",
    "        ## Note\n",
    "        ## 1. Initialize the loss function to BCEWithLogitsLoss\n",
    "        self.loss_fn = torch.nn.BCEWithLogitsLoss()\n",
    "\n",
    "        ##########################################\n",
    "\n",
    "        self.dropout = dropout\n",
    "\n",
    "    def reset_parameters(self):\n",
    "        self.conv1.reset_parameters()\n",
    "        self.conv2.reset_parameters()\n",
    "\n",
    "    def forward(self, batch):\n",
    "        node_feature, edge_index, edge_label_index = batch.node_feature, batch.edge_index, batch.edge_label_index\n",
    "\n",
    "        ############# Your code here #############\n",
    "        ## (~6 line of code)\n",
    "        ## Note\n",
    "        ## 1. Feed the node feature into the first conv layer\n",
    "        ## 2. Add a ReLU after the first conv layer\n",
    "        ## 3. Add dropout after the ReLU (with probability self.dropout)\n",
    "        ## 4. Feed the output to the second conv layer\n",
    "        ## 5. Select the embeddings of the source nodes and destination nodes\n",
    "        ## by using the edge_label_index and compute the similarity of each pair\n",
    "        ## by dot product\n",
    "        out = self.conv1(node_feature, edge_index)\n",
    "        out = F.relu(out)\n",
    "        out = F.dropout(out, p=self.dropout, training=self.training)\n",
    "        out = self.conv2(out, edge_index)\n",
    "        \n",
    "        #print(f\"node feature shape: {node_feature.size()}\")\n",
    "        #print(f\"out shape: {out.size()}\")\n",
    "        #print(f\"edge_label_index shape: {edge_label_index.size()}\")\n",
    "        \n",
    "        #print(f\"out[edge_label_index[0]]: {out[edge_label_index[0]].size()}\")\n",
    "        pred = (out[edge_label_index[0]] * out[edge_label_index[1]]).sum(-1)\n",
    "        #print(f\"pred shape: {pred.size()}\")\n",
    "        ##########################################\n",
    "\n",
    "        return pred\n",
    "\n",
    "    def loss(self, pred, link_label):\n",
    "        return self.loss_fn(pred, link_label)"
   ]
  },
  {
   "cell_type": "code",
   "execution_count": 197,
   "metadata": {
    "id": "uuKbGFOu1Ka8"
   },
   "outputs": [],
   "source": [
    "from sklearn.metrics import *\n",
    "\n",
    "def train(model, dataloaders, optimizer, args):\n",
    "    val_max = 0\n",
    "    best_model = model\n",
    "\n",
    "    for epoch in range(1, args[\"epochs\"]):\n",
    "        for i, batch in enumerate(dataloaders['train']):\n",
    "\n",
    "            batch.to(args[\"device\"])\n",
    "\n",
    "            ############# Your code here #############\n",
    "            ## (~6 lines of code)\n",
    "            ## Note\n",
    "            ## 1. Zero grad the optimizer\n",
    "            ## 2. Compute loss and backpropagate\n",
    "            ## 3. Update the model parameters\n",
    "            optimizer.zero_grad()\n",
    "            pred = model(batch)\n",
    "            label = batch.edge_label.float()\n",
    "            loss = model.loss(pred, label)\n",
    "            loss.backward()\n",
    "            optimizer.step()\n",
    "            ##########################################\n",
    "\n",
    "            log = 'Epoch: {:03d}, Train: {:.4f}, Val: {:.4f}, Test: {:.4f}, Loss: {}'\n",
    "            score_train = test(model, dataloaders['train'], args)\n",
    "            score_val = test(model, dataloaders['val'], args)\n",
    "            score_test = test(model, dataloaders['test'], args)\n",
    "\n",
    "            print(log.format(epoch, score_train, score_val, score_test, loss.item()))\n",
    "            if val_max < score_val:\n",
    "                val_max = score_val\n",
    "                best_model = copy.deepcopy(model)\n",
    "    return best_model\n",
    "\n",
    "def test(model, dataloader, args):\n",
    "    model.eval()\n",
    "\n",
    "    score = 0\n",
    "\n",
    "    ############# Your code here #############\n",
    "    ## (~5 lines of code)\n",
    "    ## Note\n",
    "    ## 1. Loop through batches in the dataloader\n",
    "    ## 2. Feed the batch to the model\n",
    "    ## 3. Feed the model output to sigmoid\n",
    "    ## 4. Compute the ROC-AUC score by using sklearn roc_auc_score function\n",
    "    ## 5. Edge labels are stored in batch.edge_label\n",
    "    for batch in dataloader:\n",
    "        batch.to(args[\"device\"])\n",
    "        \n",
    "        pred = model(batch)\n",
    "        prob = F.sigmoid(pred)\n",
    "        score += roc_auc_score(batch.edge_label.cpu(), prob.cpu().detach().numpy())\n",
    "    score /= len(dataloader)\n",
    "    ##########################################\n",
    "\n",
    "    return score"
   ]
  },
  {
   "cell_type": "code",
   "execution_count": 198,
   "metadata": {
    "id": "JTKWYX1b33V3"
   },
   "outputs": [],
   "source": [
    "# Please don't change any parameters\n",
    "args = {\n",
    "    \"device\" : 'cuda' if torch.cuda.is_available() else 'cpu',\n",
    "    \"hidden_dim\" : 128,\n",
    "    \"epochs\" : 200,\n",
    "}"
   ]
  },
  {
   "cell_type": "code",
   "execution_count": 199,
   "metadata": {
    "id": "Klw_xYnE27xQ",
    "scrolled": false
   },
   "outputs": [
    {
     "name": "stdout",
     "output_type": "stream",
     "text": [
      "Num classes: 2\n",
      "Epoch: 001, Train: 0.5001, Val: 0.4694, Test: 0.5143, Loss: 0.6933165788650513\n",
      "Epoch: 002, Train: 0.4950, Val: 0.4697, Test: 0.5151, Loss: 0.6931307315826416\n",
      "Epoch: 003, Train: 0.5015, Val: 0.4703, Test: 0.5163, Loss: 0.693176805973053\n",
      "Epoch: 004, Train: 0.5062, Val: 0.4712, Test: 0.5178, Loss: 0.6932144165039062\n",
      "Epoch: 005, Train: 0.5095, Val: 0.4724, Test: 0.5196, Loss: 0.693138837814331\n",
      "Epoch: 006, Train: 0.5080, Val: 0.4736, Test: 0.5217, Loss: 0.6931149959564209\n",
      "Epoch: 007, Train: 0.5069, Val: 0.4748, Test: 0.5241, Loss: 0.6930895447731018\n",
      "Epoch: 008, Train: 0.5083, Val: 0.4763, Test: 0.5265, Loss: 0.6930676698684692\n",
      "Epoch: 009, Train: 0.5250, Val: 0.4783, Test: 0.5290, Loss: 0.6930692791938782\n",
      "Epoch: 010, Train: 0.5224, Val: 0.4801, Test: 0.5317, Loss: 0.6930969953536987\n",
      "Epoch: 011, Train: 0.5312, Val: 0.4820, Test: 0.5345, Loss: 0.693075954914093\n",
      "Epoch: 012, Train: 0.5320, Val: 0.4837, Test: 0.5373, Loss: 0.6930689215660095\n",
      "Epoch: 013, Train: 0.5374, Val: 0.4860, Test: 0.5404, Loss: 0.693017840385437\n",
      "Epoch: 014, Train: 0.5280, Val: 0.4882, Test: 0.5432, Loss: 0.6929773092269897\n",
      "Epoch: 015, Train: 0.5451, Val: 0.4903, Test: 0.5461, Loss: 0.6929861307144165\n",
      "Epoch: 016, Train: 0.5290, Val: 0.4926, Test: 0.5488, Loss: 0.6929847598075867\n",
      "Epoch: 017, Train: 0.5571, Val: 0.4954, Test: 0.5516, Loss: 0.6929528713226318\n",
      "Epoch: 018, Train: 0.5541, Val: 0.4978, Test: 0.5543, Loss: 0.6929142475128174\n",
      "Epoch: 019, Train: 0.5617, Val: 0.5003, Test: 0.5570, Loss: 0.6929166913032532\n",
      "Epoch: 020, Train: 0.5474, Val: 0.5026, Test: 0.5597, Loss: 0.6929479241371155\n",
      "Epoch: 021, Train: 0.5505, Val: 0.5047, Test: 0.5623, Loss: 0.6928483843803406\n",
      "Epoch: 022, Train: 0.5578, Val: 0.5069, Test: 0.5648, Loss: 0.6928255558013916\n",
      "Epoch: 023, Train: 0.5731, Val: 0.5095, Test: 0.5669, Loss: 0.6928279995918274\n",
      "Epoch: 024, Train: 0.5679, Val: 0.5118, Test: 0.5690, Loss: 0.6927465796470642\n",
      "Epoch: 025, Train: 0.5751, Val: 0.5138, Test: 0.5711, Loss: 0.6927337050437927\n",
      "Epoch: 026, Train: 0.5695, Val: 0.5161, Test: 0.5729, Loss: 0.6927459239959717\n",
      "Epoch: 027, Train: 0.5810, Val: 0.5184, Test: 0.5747, Loss: 0.6927195191383362\n",
      "Epoch: 028, Train: 0.5813, Val: 0.5206, Test: 0.5763, Loss: 0.6927623152732849\n",
      "Epoch: 029, Train: 0.5874, Val: 0.5225, Test: 0.5779, Loss: 0.6926601529121399\n",
      "Epoch: 030, Train: 0.5947, Val: 0.5247, Test: 0.5793, Loss: 0.6926013231277466\n",
      "Epoch: 031, Train: 0.6035, Val: 0.5265, Test: 0.5807, Loss: 0.6926175355911255\n",
      "Epoch: 032, Train: 0.6001, Val: 0.5281, Test: 0.5820, Loss: 0.6926032304763794\n",
      "Epoch: 033, Train: 0.5925, Val: 0.5300, Test: 0.5830, Loss: 0.6926003098487854\n",
      "Epoch: 034, Train: 0.5955, Val: 0.5314, Test: 0.5839, Loss: 0.6924688816070557\n",
      "Epoch: 035, Train: 0.5895, Val: 0.5334, Test: 0.5848, Loss: 0.6923701763153076\n",
      "Epoch: 036, Train: 0.6135, Val: 0.5353, Test: 0.5856, Loss: 0.692387044429779\n",
      "Epoch: 037, Train: 0.6043, Val: 0.5370, Test: 0.5861, Loss: 0.6923182606697083\n",
      "Epoch: 038, Train: 0.5972, Val: 0.5386, Test: 0.5868, Loss: 0.6923098564147949\n",
      "Epoch: 039, Train: 0.6057, Val: 0.5397, Test: 0.5870, Loss: 0.692193865776062\n",
      "Epoch: 040, Train: 0.6092, Val: 0.5411, Test: 0.5872, Loss: 0.6921798586845398\n",
      "Epoch: 041, Train: 0.6046, Val: 0.5423, Test: 0.5875, Loss: 0.6920366287231445\n",
      "Epoch: 042, Train: 0.5969, Val: 0.5437, Test: 0.5878, Loss: 0.6919966340065002\n",
      "Epoch: 043, Train: 0.6113, Val: 0.5447, Test: 0.5880, Loss: 0.6920385956764221\n",
      "Epoch: 044, Train: 0.6169, Val: 0.5458, Test: 0.5881, Loss: 0.6919237971305847\n",
      "Epoch: 045, Train: 0.6129, Val: 0.5468, Test: 0.5883, Loss: 0.6918365955352783\n",
      "Epoch: 046, Train: 0.6070, Val: 0.5473, Test: 0.5884, Loss: 0.6916465759277344\n",
      "Epoch: 047, Train: 0.6222, Val: 0.5483, Test: 0.5884, Loss: 0.6915594935417175\n",
      "Epoch: 048, Train: 0.6196, Val: 0.5492, Test: 0.5882, Loss: 0.6914024353027344\n",
      "Epoch: 049, Train: 0.6197, Val: 0.5500, Test: 0.5884, Loss: 0.6911184191703796\n",
      "Epoch: 050, Train: 0.6110, Val: 0.5507, Test: 0.5883, Loss: 0.6911073923110962\n",
      "Epoch: 051, Train: 0.6063, Val: 0.5517, Test: 0.5884, Loss: 0.6910483241081238\n",
      "Epoch: 052, Train: 0.6240, Val: 0.5529, Test: 0.5884, Loss: 0.6909379959106445\n",
      "Epoch: 053, Train: 0.6197, Val: 0.5531, Test: 0.5884, Loss: 0.6908990144729614\n",
      "Epoch: 054, Train: 0.6074, Val: 0.5539, Test: 0.5886, Loss: 0.6906110644340515\n",
      "Epoch: 055, Train: 0.6204, Val: 0.5550, Test: 0.5888, Loss: 0.6903055906295776\n",
      "Epoch: 056, Train: 0.6117, Val: 0.5558, Test: 0.5889, Loss: 0.6901571154594421\n",
      "Epoch: 057, Train: 0.6226, Val: 0.5569, Test: 0.5890, Loss: 0.6901152729988098\n",
      "Epoch: 058, Train: 0.6145, Val: 0.5576, Test: 0.5892, Loss: 0.6898437738418579\n",
      "Epoch: 059, Train: 0.6183, Val: 0.5585, Test: 0.5894, Loss: 0.6895886659622192\n",
      "Epoch: 060, Train: 0.6144, Val: 0.5592, Test: 0.5898, Loss: 0.6896870136260986\n",
      "Epoch: 061, Train: 0.6177, Val: 0.5601, Test: 0.5902, Loss: 0.6888761520385742\n",
      "Epoch: 062, Train: 0.6225, Val: 0.5608, Test: 0.5907, Loss: 0.6885945200920105\n",
      "Epoch: 063, Train: 0.6317, Val: 0.5615, Test: 0.5911, Loss: 0.6891288161277771\n",
      "Epoch: 064, Train: 0.6190, Val: 0.5623, Test: 0.5916, Loss: 0.6883389353752136\n",
      "Epoch: 065, Train: 0.6217, Val: 0.5636, Test: 0.5922, Loss: 0.6888900399208069\n",
      "Epoch: 066, Train: 0.6243, Val: 0.5647, Test: 0.5930, Loss: 0.6871141195297241\n",
      "Epoch: 067, Train: 0.6212, Val: 0.5658, Test: 0.5938, Loss: 0.6872640252113342\n",
      "Epoch: 068, Train: 0.6298, Val: 0.5669, Test: 0.5947, Loss: 0.6868833899497986\n",
      "Epoch: 069, Train: 0.6257, Val: 0.5680, Test: 0.5956, Loss: 0.6862872242927551\n",
      "Epoch: 070, Train: 0.6301, Val: 0.5692, Test: 0.5965, Loss: 0.6859822869300842\n",
      "Epoch: 071, Train: 0.6209, Val: 0.5706, Test: 0.5975, Loss: 0.6846897006034851\n",
      "Epoch: 072, Train: 0.6271, Val: 0.5722, Test: 0.5985, Loss: 0.6845695376396179\n",
      "Epoch: 073, Train: 0.6309, Val: 0.5739, Test: 0.5997, Loss: 0.6844273209571838\n",
      "Epoch: 074, Train: 0.6273, Val: 0.5753, Test: 0.6011, Loss: 0.6833863258361816\n",
      "Epoch: 075, Train: 0.6373, Val: 0.5775, Test: 0.6025, Loss: 0.6832941770553589\n",
      "Epoch: 076, Train: 0.6375, Val: 0.5795, Test: 0.6041, Loss: 0.6817906498908997\n",
      "Epoch: 077, Train: 0.6268, Val: 0.5818, Test: 0.6059, Loss: 0.681373119354248\n",
      "Epoch: 078, Train: 0.6359, Val: 0.5846, Test: 0.6081, Loss: 0.6798833608627319\n",
      "Epoch: 079, Train: 0.6433, Val: 0.5875, Test: 0.6106, Loss: 0.6787147521972656\n",
      "Epoch: 080, Train: 0.6436, Val: 0.5913, Test: 0.6136, Loss: 0.678577721118927\n",
      "Epoch: 081, Train: 0.6462, Val: 0.5958, Test: 0.6171, Loss: 0.6762305498123169\n",
      "Epoch: 082, Train: 0.6469, Val: 0.6016, Test: 0.6211, Loss: 0.6745633482933044\n",
      "Epoch: 083, Train: 0.6593, Val: 0.6083, Test: 0.6253, Loss: 0.6728261709213257\n",
      "Epoch: 084, Train: 0.6688, Val: 0.6165, Test: 0.6308, Loss: 0.6731671690940857\n",
      "Epoch: 085, Train: 0.6601, Val: 0.6263, Test: 0.6370, Loss: 0.6694092750549316\n",
      "Epoch: 086, Train: 0.6699, Val: 0.6393, Test: 0.6449, Loss: 0.669949471950531\n",
      "Epoch: 087, Train: 0.6769, Val: 0.6509, Test: 0.6521, Loss: 0.6658567786216736\n",
      "Epoch: 088, Train: 0.6826, Val: 0.6584, Test: 0.6591, Loss: 0.6657695770263672\n",
      "Epoch: 089, Train: 0.6972, Val: 0.6657, Test: 0.6659, Loss: 0.6627228856086731\n",
      "Epoch: 090, Train: 0.7023, Val: 0.6714, Test: 0.6713, Loss: 0.6596803069114685\n",
      "Epoch: 091, Train: 0.7056, Val: 0.6771, Test: 0.6760, Loss: 0.6575271487236023\n",
      "Epoch: 092, Train: 0.7144, Val: 0.6826, Test: 0.6791, Loss: 0.6536944508552551\n",
      "Epoch: 093, Train: 0.7176, Val: 0.6876, Test: 0.6820, Loss: 0.6520035862922668\n",
      "Epoch: 094, Train: 0.7190, Val: 0.6920, Test: 0.6845, Loss: 0.6505619287490845\n",
      "Epoch: 095, Train: 0.7213, Val: 0.6953, Test: 0.6870, Loss: 0.6432430148124695\n",
      "Epoch: 096, Train: 0.7213, Val: 0.6974, Test: 0.6891, Loss: 0.6414192914962769\n",
      "Epoch: 097, Train: 0.7150, Val: 0.7006, Test: 0.6912, Loss: 0.640859842300415\n",
      "Epoch: 098, Train: 0.7262, Val: 0.7031, Test: 0.6928, Loss: 0.631467342376709\n",
      "Epoch: 099, Train: 0.7197, Val: 0.7040, Test: 0.6948, Loss: 0.6267203092575073\n",
      "Epoch: 100, Train: 0.7326, Val: 0.7059, Test: 0.6965, Loss: 0.6246090531349182\n",
      "Epoch: 101, Train: 0.7268, Val: 0.7079, Test: 0.6984, Loss: 0.6225090622901917\n",
      "Epoch: 102, Train: 0.7300, Val: 0.7087, Test: 0.6999, Loss: 0.6198636889457703\n",
      "Epoch: 103, Train: 0.7359, Val: 0.7090, Test: 0.7006, Loss: 0.6181695461273193\n",
      "Epoch: 104, Train: 0.7330, Val: 0.7094, Test: 0.7015, Loss: 0.6200629472732544\n",
      "Epoch: 105, Train: 0.7413, Val: 0.7111, Test: 0.7029, Loss: 0.6085795760154724\n",
      "Epoch: 106, Train: 0.7433, Val: 0.7144, Test: 0.7050, Loss: 0.617164134979248\n",
      "Epoch: 107, Train: 0.7356, Val: 0.7167, Test: 0.7073, Loss: 0.6071940660476685\n"
     ]
    },
    {
     "name": "stdout",
     "output_type": "stream",
     "text": [
      "Epoch: 108, Train: 0.7510, Val: 0.7193, Test: 0.7097, Loss: 0.6251832842826843\n",
      "Epoch: 109, Train: 0.7411, Val: 0.7201, Test: 0.7106, Loss: 0.6110542416572571\n",
      "Epoch: 110, Train: 0.7558, Val: 0.7201, Test: 0.7111, Loss: 0.6208431720733643\n",
      "Epoch: 111, Train: 0.7530, Val: 0.7215, Test: 0.7127, Loss: 0.6085907220840454\n",
      "Epoch: 112, Train: 0.7610, Val: 0.7234, Test: 0.7152, Loss: 0.597139835357666\n",
      "Epoch: 113, Train: 0.7715, Val: 0.7242, Test: 0.7172, Loss: 0.5947579741477966\n",
      "Epoch: 114, Train: 0.7854, Val: 0.7254, Test: 0.7188, Loss: 0.6047924160957336\n",
      "Epoch: 115, Train: 0.7702, Val: 0.7263, Test: 0.7205, Loss: 0.597234308719635\n",
      "Epoch: 116, Train: 0.7954, Val: 0.7275, Test: 0.7223, Loss: 0.5867788195610046\n",
      "Epoch: 117, Train: 0.7818, Val: 0.7280, Test: 0.7236, Loss: 0.6018396019935608\n",
      "Epoch: 118, Train: 0.7906, Val: 0.7282, Test: 0.7247, Loss: 0.5923446416854858\n",
      "Epoch: 119, Train: 0.7833, Val: 0.7286, Test: 0.7258, Loss: 0.594335675239563\n",
      "Epoch: 120, Train: 0.8007, Val: 0.7291, Test: 0.7272, Loss: 0.5852324962615967\n",
      "Epoch: 121, Train: 0.7906, Val: 0.7291, Test: 0.7272, Loss: 0.5859652757644653\n",
      "Epoch: 122, Train: 0.7895, Val: 0.7286, Test: 0.7265, Loss: 0.5869827270507812\n",
      "Epoch: 123, Train: 0.7863, Val: 0.7288, Test: 0.7271, Loss: 0.5752735137939453\n",
      "Epoch: 124, Train: 0.7937, Val: 0.7293, Test: 0.7278, Loss: 0.5821971297264099\n",
      "Epoch: 125, Train: 0.7929, Val: 0.7301, Test: 0.7291, Loss: 0.5789061188697815\n",
      "Epoch: 126, Train: 0.7988, Val: 0.7304, Test: 0.7295, Loss: 0.578162670135498\n",
      "Epoch: 127, Train: 0.8025, Val: 0.7304, Test: 0.7295, Loss: 0.5734213590621948\n",
      "Epoch: 128, Train: 0.8052, Val: 0.7304, Test: 0.7293, Loss: 0.5767625570297241\n",
      "Epoch: 129, Train: 0.8008, Val: 0.7308, Test: 0.7298, Loss: 0.5716520547866821\n",
      "Epoch: 130, Train: 0.8074, Val: 0.7314, Test: 0.7297, Loss: 0.5758733749389648\n",
      "Epoch: 131, Train: 0.8055, Val: 0.7319, Test: 0.7301, Loss: 0.5748406648635864\n",
      "Epoch: 132, Train: 0.8098, Val: 0.7321, Test: 0.7297, Loss: 0.5694026947021484\n",
      "Epoch: 133, Train: 0.8057, Val: 0.7326, Test: 0.7298, Loss: 0.5665180087089539\n",
      "Epoch: 134, Train: 0.8078, Val: 0.7332, Test: 0.7297, Loss: 0.5654027462005615\n",
      "Epoch: 135, Train: 0.8148, Val: 0.7336, Test: 0.7292, Loss: 0.5715776681900024\n",
      "Epoch: 136, Train: 0.8202, Val: 0.7344, Test: 0.7306, Loss: 0.5688689351081848\n",
      "Epoch: 137, Train: 0.8169, Val: 0.7352, Test: 0.7317, Loss: 0.5602359771728516\n",
      "Epoch: 138, Train: 0.8226, Val: 0.7350, Test: 0.7306, Loss: 0.5578369498252869\n",
      "Epoch: 139, Train: 0.8166, Val: 0.7355, Test: 0.7305, Loss: 0.5725571513175964\n",
      "Epoch: 140, Train: 0.8229, Val: 0.7361, Test: 0.7309, Loss: 0.56711745262146\n",
      "Epoch: 141, Train: 0.8284, Val: 0.7365, Test: 0.7319, Loss: 0.568053662776947\n",
      "Epoch: 142, Train: 0.8273, Val: 0.7367, Test: 0.7327, Loss: 0.5568431615829468\n",
      "Epoch: 143, Train: 0.8374, Val: 0.7368, Test: 0.7327, Loss: 0.5506106019020081\n",
      "Epoch: 144, Train: 0.8266, Val: 0.7371, Test: 0.7321, Loss: 0.5547707676887512\n",
      "Epoch: 145, Train: 0.8362, Val: 0.7364, Test: 0.7303, Loss: 0.5507031083106995\n",
      "Epoch: 146, Train: 0.8331, Val: 0.7368, Test: 0.7299, Loss: 0.5483580827713013\n",
      "Epoch: 147, Train: 0.8347, Val: 0.7381, Test: 0.7318, Loss: 0.5536799430847168\n",
      "Epoch: 148, Train: 0.8369, Val: 0.7392, Test: 0.7324, Loss: 0.5506210923194885\n",
      "Epoch: 149, Train: 0.8441, Val: 0.7392, Test: 0.7320, Loss: 0.5474393963813782\n",
      "Epoch: 150, Train: 0.8352, Val: 0.7380, Test: 0.7302, Loss: 0.5536018013954163\n",
      "Epoch: 151, Train: 0.8474, Val: 0.7359, Test: 0.7285, Loss: 0.5525981187820435\n",
      "Epoch: 152, Train: 0.8356, Val: 0.7375, Test: 0.7308, Loss: 0.5389595031738281\n",
      "Epoch: 153, Train: 0.8528, Val: 0.7405, Test: 0.7337, Loss: 0.5404778718948364\n",
      "Epoch: 154, Train: 0.8450, Val: 0.7405, Test: 0.7342, Loss: 0.5500828623771667\n",
      "Epoch: 155, Train: 0.8469, Val: 0.7371, Test: 0.7312, Loss: 0.5405362248420715\n",
      "Epoch: 156, Train: 0.8511, Val: 0.7332, Test: 0.7268, Loss: 0.5491193532943726\n",
      "Epoch: 157, Train: 0.8449, Val: 0.7338, Test: 0.7273, Loss: 0.5445380210876465\n",
      "Epoch: 158, Train: 0.8589, Val: 0.7367, Test: 0.7306, Loss: 0.5421765446662903\n",
      "Epoch: 159, Train: 0.8499, Val: 0.7389, Test: 0.7335, Loss: 0.5337156057357788\n",
      "Epoch: 160, Train: 0.8634, Val: 0.7386, Test: 0.7331, Loss: 0.5441487431526184\n",
      "Epoch: 161, Train: 0.8586, Val: 0.7372, Test: 0.7310, Loss: 0.5449115037918091\n",
      "Epoch: 162, Train: 0.8580, Val: 0.7356, Test: 0.7281, Loss: 0.5383026599884033\n",
      "Epoch: 163, Train: 0.8634, Val: 0.7345, Test: 0.7269, Loss: 0.5396614670753479\n",
      "Epoch: 164, Train: 0.8656, Val: 0.7361, Test: 0.7291, Loss: 0.5344697833061218\n",
      "Epoch: 165, Train: 0.8636, Val: 0.7379, Test: 0.7313, Loss: 0.5415014028549194\n",
      "Epoch: 166, Train: 0.8608, Val: 0.7380, Test: 0.7306, Loss: 0.5310670137405396\n",
      "Epoch: 167, Train: 0.8647, Val: 0.7378, Test: 0.7290, Loss: 0.5270689129829407\n",
      "Epoch: 168, Train: 0.8765, Val: 0.7375, Test: 0.7279, Loss: 0.5323249101638794\n",
      "Epoch: 169, Train: 0.8702, Val: 0.7394, Test: 0.7304, Loss: 0.5356680750846863\n",
      "Epoch: 170, Train: 0.8729, Val: 0.7411, Test: 0.7322, Loss: 0.5235854387283325\n",
      "Epoch: 171, Train: 0.8775, Val: 0.7410, Test: 0.7319, Loss: 0.5320472717285156\n",
      "Epoch: 172, Train: 0.8785, Val: 0.7399, Test: 0.7300, Loss: 0.5234869122505188\n",
      "Epoch: 173, Train: 0.8764, Val: 0.7404, Test: 0.7310, Loss: 0.5196688175201416\n",
      "Epoch: 174, Train: 0.8707, Val: 0.7417, Test: 0.7327, Loss: 0.5305028557777405\n",
      "Epoch: 175, Train: 0.8814, Val: 0.7412, Test: 0.7302, Loss: 0.5314377546310425\n",
      "Epoch: 176, Train: 0.8782, Val: 0.7404, Test: 0.7287, Loss: 0.5238558650016785\n",
      "Epoch: 177, Train: 0.8887, Val: 0.7425, Test: 0.7324, Loss: 0.5250072479248047\n",
      "Epoch: 178, Train: 0.8865, Val: 0.7448, Test: 0.7345, Loss: 0.5156393647193909\n",
      "Epoch: 179, Train: 0.8854, Val: 0.7450, Test: 0.7343, Loss: 0.5133384466171265\n",
      "Epoch: 180, Train: 0.8896, Val: 0.7436, Test: 0.7320, Loss: 0.5298017263412476\n",
      "Epoch: 181, Train: 0.8905, Val: 0.7454, Test: 0.7340, Loss: 0.5146687030792236\n",
      "Epoch: 182, Train: 0.8929, Val: 0.7488, Test: 0.7376, Loss: 0.5071051120758057\n",
      "Epoch: 183, Train: 0.8945, Val: 0.7499, Test: 0.7390, Loss: 0.5138712525367737\n",
      "Epoch: 184, Train: 0.8935, Val: 0.7509, Test: 0.7396, Loss: 0.5188560485839844\n",
      "Epoch: 185, Train: 0.9046, Val: 0.7482, Test: 0.7356, Loss: 0.5252893567085266\n",
      "Epoch: 186, Train: 0.9000, Val: 0.7475, Test: 0.7343, Loss: 0.5176315903663635\n",
      "Epoch: 187, Train: 0.8991, Val: 0.7524, Test: 0.7403, Loss: 0.5146965980529785\n",
      "Epoch: 188, Train: 0.9069, Val: 0.7556, Test: 0.7448, Loss: 0.5149048566818237\n",
      "Epoch: 189, Train: 0.9036, Val: 0.7577, Test: 0.7474, Loss: 0.5039591193199158\n",
      "Epoch: 190, Train: 0.9018, Val: 0.7578, Test: 0.7472, Loss: 0.501107931137085\n",
      "Epoch: 191, Train: 0.9057, Val: 0.7588, Test: 0.7478, Loss: 0.49863293766975403\n",
      "Epoch: 192, Train: 0.9126, Val: 0.7582, Test: 0.7472, Loss: 0.5052453279495239\n",
      "Epoch: 193, Train: 0.9134, Val: 0.7619, Test: 0.7515, Loss: 0.5040083527565002\n",
      "Epoch: 194, Train: 0.9140, Val: 0.7643, Test: 0.7547, Loss: 0.5038980841636658\n",
      "Epoch: 195, Train: 0.9102, Val: 0.7658, Test: 0.7562, Loss: 0.5066460371017456\n",
      "Epoch: 196, Train: 0.9131, Val: 0.7655, Test: 0.7552, Loss: 0.4974049925804138\n",
      "Epoch: 197, Train: 0.9133, Val: 0.7620, Test: 0.7504, Loss: 0.4942476749420166\n",
      "Epoch: 198, Train: 0.9125, Val: 0.7667, Test: 0.7564, Loss: 0.49650174379348755\n",
      "Epoch: 199, Train: 0.9129, Val: 0.7711, Test: 0.7608, Loss: 0.5008425712585449\n",
      "Train: 0.9185, Val: 0.7711, Test: 0.7608\n"
     ]
    }
   ],
   "source": [
    "pyg_dataset = Planetoid('./tmp/cora', 'Cora')\n",
    "graphs = GraphDataset.pyg_to_graphs(pyg_dataset)\n",
    "\n",
    "dataset = GraphDataset(\n",
    "        graphs,\n",
    "        task='link_pred',\n",
    "        edge_train_mode=\"disjoint\"\n",
    "    )\n",
    "datasets = {}\n",
    "datasets['train'], datasets['val'], datasets['test']= dataset.split(\n",
    "            transductive=True, split_ratio=[0.85, 0.05, 0.1])\n",
    "input_dim = datasets['train'].num_node_features\n",
    "num_classes = datasets['train'].num_edge_labels\n",
    "\n",
    "print(f\"Num classes: {num_classes}\")\n",
    "model = LinkPredModel(input_dim, args[\"hidden_dim\"], num_classes).to(args[\"device\"])\n",
    "model.reset_parameters()\n",
    "\n",
    "optimizer = torch.optim.SGD(model.parameters(), lr=0.1, momentum=0.9, weight_decay=5e-4)\n",
    "\n",
    "dataloaders = {split: DataLoader(\n",
    "            ds, collate_fn=Batch.collate([]),\n",
    "            batch_size=1, shuffle=(split=='train'))\n",
    "            for split, ds in datasets.items()}\n",
    "best_model = train(model, dataloaders, optimizer, args)\n",
    "log = \"Train: {:.4f}, Val: {:.4f}, Test: {:.4f}\"\n",
    "best_train_roc = test(best_model, dataloaders['train'], args)\n",
    "best_val_roc = test(best_model, dataloaders['val'], args)\n",
    "best_test_roc = test(best_model, dataloaders['test'], args)\n",
    "print(log.format(best_train_roc, best_val_roc, best_test_roc))"
   ]
  },
  {
   "cell_type": "markdown",
   "metadata": {
    "id": "j5brlsKElP0_"
   },
   "source": [
    "## Question 4: What is the maximum ROC-AUC score you could get for the best_model on test set? (13 points)\n",
    "\n",
    "Submit your answers on Gradescope."
   ]
  },
  {
   "cell_type": "markdown",
   "metadata": {
    "id": "e7JXsMTBgeOI"
   },
   "source": [
    "# Submission\n",
    "\n",
    "In order to get credit, you must go submit your answers on Gradescope.\n",
    "\n",
    "Also, you need to submit the `ipynb` file of Colab 3, by clicking `File` and `Download .ipynb`. Please make sure that your output of each cell is available in your `ipynb` file."
   ]
  }
 ],
 "metadata": {
  "accelerator": "GPU",
  "colab": {
   "machine_shape": "hm",
   "provenance": [],
   "toc_visible": true
  },
  "kernelspec": {
   "display_name": "Python 3 (ipykernel)",
   "language": "python",
   "name": "python3"
  },
  "language_info": {
   "codemirror_mode": {
    "name": "ipython",
    "version": 3
   },
   "file_extension": ".py",
   "mimetype": "text/x-python",
   "name": "python",
   "nbconvert_exporter": "python",
   "pygments_lexer": "ipython3",
   "version": "3.10.11"
  }
 },
 "nbformat": 4,
 "nbformat_minor": 1
}
